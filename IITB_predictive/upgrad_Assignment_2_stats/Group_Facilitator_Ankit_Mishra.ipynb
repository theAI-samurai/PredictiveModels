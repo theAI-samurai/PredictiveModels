{
 "cells": [
  {
   "cell_type": "markdown",
   "metadata": {},
   "source": [
    "# Lending Club Case study "
   ]
  },
  {
   "cell_type": "code",
   "execution_count": 2,
   "metadata": {},
   "outputs": [
    {
     "name": "stderr",
     "output_type": "stream",
     "text": [
      "c:\\users\\ankit\\appdata\\local\\programs\\python\\python36\\lib\\site-packages\\IPython\\core\\interactiveshell.py:3051: DtypeWarning: Columns (47) have mixed types. Specify dtype option on import or set low_memory=False.\n",
      "  interactivity=interactivity, compiler=compiler, result=result)\n"
     ]
    },
    {
     "data": {
      "text/html": [
       "<div>\n",
       "<style scoped>\n",
       "    .dataframe tbody tr th:only-of-type {\n",
       "        vertical-align: middle;\n",
       "    }\n",
       "\n",
       "    .dataframe tbody tr th {\n",
       "        vertical-align: top;\n",
       "    }\n",
       "\n",
       "    .dataframe thead th {\n",
       "        text-align: right;\n",
       "    }\n",
       "</style>\n",
       "<table border=\"1\" class=\"dataframe\">\n",
       "  <thead>\n",
       "    <tr style=\"text-align: right;\">\n",
       "      <th></th>\n",
       "      <th>id</th>\n",
       "      <th>member_id</th>\n",
       "      <th>loan_amnt</th>\n",
       "      <th>funded_amnt</th>\n",
       "      <th>funded_amnt_inv</th>\n",
       "      <th>term</th>\n",
       "      <th>int_rate</th>\n",
       "      <th>installment</th>\n",
       "      <th>grade</th>\n",
       "      <th>sub_grade</th>\n",
       "      <th>...</th>\n",
       "      <th>num_tl_90g_dpd_24m</th>\n",
       "      <th>num_tl_op_past_12m</th>\n",
       "      <th>pct_tl_nvr_dlq</th>\n",
       "      <th>percent_bc_gt_75</th>\n",
       "      <th>pub_rec_bankruptcies</th>\n",
       "      <th>tax_liens</th>\n",
       "      <th>tot_hi_cred_lim</th>\n",
       "      <th>total_bal_ex_mort</th>\n",
       "      <th>total_bc_limit</th>\n",
       "      <th>total_il_high_credit_limit</th>\n",
       "    </tr>\n",
       "  </thead>\n",
       "  <tbody>\n",
       "    <tr>\n",
       "      <th>0</th>\n",
       "      <td>1077501</td>\n",
       "      <td>1296599</td>\n",
       "      <td>5000</td>\n",
       "      <td>5000</td>\n",
       "      <td>4975.0</td>\n",
       "      <td>36 months</td>\n",
       "      <td>10.65%</td>\n",
       "      <td>162.87</td>\n",
       "      <td>B</td>\n",
       "      <td>B2</td>\n",
       "      <td>...</td>\n",
       "      <td>NaN</td>\n",
       "      <td>NaN</td>\n",
       "      <td>NaN</td>\n",
       "      <td>NaN</td>\n",
       "      <td>0.0</td>\n",
       "      <td>0.0</td>\n",
       "      <td>NaN</td>\n",
       "      <td>NaN</td>\n",
       "      <td>NaN</td>\n",
       "      <td>NaN</td>\n",
       "    </tr>\n",
       "    <tr>\n",
       "      <th>1</th>\n",
       "      <td>1077430</td>\n",
       "      <td>1314167</td>\n",
       "      <td>2500</td>\n",
       "      <td>2500</td>\n",
       "      <td>2500.0</td>\n",
       "      <td>60 months</td>\n",
       "      <td>15.27%</td>\n",
       "      <td>59.83</td>\n",
       "      <td>C</td>\n",
       "      <td>C4</td>\n",
       "      <td>...</td>\n",
       "      <td>NaN</td>\n",
       "      <td>NaN</td>\n",
       "      <td>NaN</td>\n",
       "      <td>NaN</td>\n",
       "      <td>0.0</td>\n",
       "      <td>0.0</td>\n",
       "      <td>NaN</td>\n",
       "      <td>NaN</td>\n",
       "      <td>NaN</td>\n",
       "      <td>NaN</td>\n",
       "    </tr>\n",
       "    <tr>\n",
       "      <th>2</th>\n",
       "      <td>1077175</td>\n",
       "      <td>1313524</td>\n",
       "      <td>2400</td>\n",
       "      <td>2400</td>\n",
       "      <td>2400.0</td>\n",
       "      <td>36 months</td>\n",
       "      <td>15.96%</td>\n",
       "      <td>84.33</td>\n",
       "      <td>C</td>\n",
       "      <td>C5</td>\n",
       "      <td>...</td>\n",
       "      <td>NaN</td>\n",
       "      <td>NaN</td>\n",
       "      <td>NaN</td>\n",
       "      <td>NaN</td>\n",
       "      <td>0.0</td>\n",
       "      <td>0.0</td>\n",
       "      <td>NaN</td>\n",
       "      <td>NaN</td>\n",
       "      <td>NaN</td>\n",
       "      <td>NaN</td>\n",
       "    </tr>\n",
       "    <tr>\n",
       "      <th>3</th>\n",
       "      <td>1076863</td>\n",
       "      <td>1277178</td>\n",
       "      <td>10000</td>\n",
       "      <td>10000</td>\n",
       "      <td>10000.0</td>\n",
       "      <td>36 months</td>\n",
       "      <td>13.49%</td>\n",
       "      <td>339.31</td>\n",
       "      <td>C</td>\n",
       "      <td>C1</td>\n",
       "      <td>...</td>\n",
       "      <td>NaN</td>\n",
       "      <td>NaN</td>\n",
       "      <td>NaN</td>\n",
       "      <td>NaN</td>\n",
       "      <td>0.0</td>\n",
       "      <td>0.0</td>\n",
       "      <td>NaN</td>\n",
       "      <td>NaN</td>\n",
       "      <td>NaN</td>\n",
       "      <td>NaN</td>\n",
       "    </tr>\n",
       "    <tr>\n",
       "      <th>4</th>\n",
       "      <td>1075358</td>\n",
       "      <td>1311748</td>\n",
       "      <td>3000</td>\n",
       "      <td>3000</td>\n",
       "      <td>3000.0</td>\n",
       "      <td>60 months</td>\n",
       "      <td>12.69%</td>\n",
       "      <td>67.79</td>\n",
       "      <td>B</td>\n",
       "      <td>B5</td>\n",
       "      <td>...</td>\n",
       "      <td>NaN</td>\n",
       "      <td>NaN</td>\n",
       "      <td>NaN</td>\n",
       "      <td>NaN</td>\n",
       "      <td>0.0</td>\n",
       "      <td>0.0</td>\n",
       "      <td>NaN</td>\n",
       "      <td>NaN</td>\n",
       "      <td>NaN</td>\n",
       "      <td>NaN</td>\n",
       "    </tr>\n",
       "  </tbody>\n",
       "</table>\n",
       "<p>5 rows × 111 columns</p>\n",
       "</div>"
      ],
      "text/plain": [
       "        id  member_id  loan_amnt  funded_amnt  funded_amnt_inv        term  \\\n",
       "0  1077501    1296599       5000         5000           4975.0   36 months   \n",
       "1  1077430    1314167       2500         2500           2500.0   60 months   \n",
       "2  1077175    1313524       2400         2400           2400.0   36 months   \n",
       "3  1076863    1277178      10000        10000          10000.0   36 months   \n",
       "4  1075358    1311748       3000         3000           3000.0   60 months   \n",
       "\n",
       "  int_rate  installment grade sub_grade  ... num_tl_90g_dpd_24m  \\\n",
       "0   10.65%       162.87     B        B2  ...                NaN   \n",
       "1   15.27%        59.83     C        C4  ...                NaN   \n",
       "2   15.96%        84.33     C        C5  ...                NaN   \n",
       "3   13.49%       339.31     C        C1  ...                NaN   \n",
       "4   12.69%        67.79     B        B5  ...                NaN   \n",
       "\n",
       "  num_tl_op_past_12m pct_tl_nvr_dlq  percent_bc_gt_75 pub_rec_bankruptcies  \\\n",
       "0                NaN            NaN               NaN                  0.0   \n",
       "1                NaN            NaN               NaN                  0.0   \n",
       "2                NaN            NaN               NaN                  0.0   \n",
       "3                NaN            NaN               NaN                  0.0   \n",
       "4                NaN            NaN               NaN                  0.0   \n",
       "\n",
       "  tax_liens tot_hi_cred_lim total_bal_ex_mort total_bc_limit  \\\n",
       "0       0.0             NaN               NaN            NaN   \n",
       "1       0.0             NaN               NaN            NaN   \n",
       "2       0.0             NaN               NaN            NaN   \n",
       "3       0.0             NaN               NaN            NaN   \n",
       "4       0.0             NaN               NaN            NaN   \n",
       "\n",
       "  total_il_high_credit_limit  \n",
       "0                        NaN  \n",
       "1                        NaN  \n",
       "2                        NaN  \n",
       "3                        NaN  \n",
       "4                        NaN  \n",
       "\n",
       "[5 rows x 111 columns]"
      ]
     },
     "execution_count": 2,
     "metadata": {},
     "output_type": "execute_result"
    }
   ],
   "source": [
    "import pandas as pd\n",
    "import numpy as np\n",
    "import seaborn as sns\n",
    "\n",
    "loan = pd.read_csv(r'D:\\upgrad\\loan.csv')\n",
    "loan.head()"
   ]
  },
  {
   "cell_type": "markdown",
   "metadata": {},
   "source": [
    "A preliminary observation of the data tells us that we might have 'NaN', 'None' values in our dataset.\n",
    "So we know identify the number of columns which have all values as 'Nan'/ nan/None, so that these redundant columns can be removed from our dataset."
   ]
  },
  {
   "cell_type": "code",
   "execution_count": 3,
   "metadata": {},
   "outputs": [
    {
     "name": "stdout",
     "output_type": "stream",
     "text": [
      "Number of columns having all entries as Nan :  54\n",
      "\n",
      "Name of columns having all nan entries :\n",
      "\n",
      "Index(['mths_since_last_major_derog', 'annual_inc_joint', 'dti_joint',\n",
      "       'verification_status_joint', 'tot_coll_amt', 'tot_cur_bal',\n",
      "       'open_acc_6m', 'open_il_6m', 'open_il_12m', 'open_il_24m',\n",
      "       'mths_since_rcnt_il', 'total_bal_il', 'il_util', 'open_rv_12m',\n",
      "       'open_rv_24m', 'max_bal_bc', 'all_util', 'total_rev_hi_lim', 'inq_fi',\n",
      "       'total_cu_tl', 'inq_last_12m', 'acc_open_past_24mths', 'avg_cur_bal',\n",
      "       'bc_open_to_buy', 'bc_util', 'mo_sin_old_il_acct',\n",
      "       'mo_sin_old_rev_tl_op', 'mo_sin_rcnt_rev_tl_op', 'mo_sin_rcnt_tl',\n",
      "       'mort_acc', 'mths_since_recent_bc', 'mths_since_recent_bc_dlq',\n",
      "       'mths_since_recent_inq', 'mths_since_recent_revol_delinq',\n",
      "       'num_accts_ever_120_pd', 'num_actv_bc_tl', 'num_actv_rev_tl',\n",
      "       'num_bc_sats', 'num_bc_tl', 'num_il_tl', 'num_op_rev_tl',\n",
      "       'num_rev_accts', 'num_rev_tl_bal_gt_0', 'num_sats', 'num_tl_120dpd_2m',\n",
      "       'num_tl_30dpd', 'num_tl_90g_dpd_24m', 'num_tl_op_past_12m',\n",
      "       'pct_tl_nvr_dlq', 'percent_bc_gt_75', 'tot_hi_cred_lim',\n",
      "       'total_bal_ex_mort', 'total_bc_limit', 'total_il_high_credit_limit'],\n",
      "      dtype='object')\n"
     ]
    }
   ],
   "source": [
    "print('Number of columns having all entries as Nan : ',loan.isna().all(0).sum())           # columns have all NAs,therefore its good to remove these columns\n",
    "print('\\nName of columns having all nan entries :\\n')\n",
    "print(loan.columns[loan.isna().all(0)])   # columns name that have only NAs"
   ]
  },
  {
   "cell_type": "markdown",
   "metadata": {},
   "source": [
    "Frome above, we identify that a total of \"54\" columns have all values in their entries as nan"
   ]
  },
  {
   "cell_type": "markdown",
   "metadata": {},
   "source": [
    "### Removing all null entries and insignificant columns from our dataframe"
   ]
  },
  {
   "cell_type": "code",
   "execution_count": 4,
   "metadata": {},
   "outputs": [
    {
     "data": {
      "text/plain": [
       "id                             0.000000\n",
       "member_id                      0.000000\n",
       "loan_amnt                      0.000000\n",
       "funded_amnt                    0.000000\n",
       "funded_amnt_inv                0.000000\n",
       "term                           0.000000\n",
       "int_rate                       0.000000\n",
       "installment                    0.000000\n",
       "grade                          0.000000\n",
       "sub_grade                      0.000000\n",
       "emp_title                      6.191303\n",
       "emp_length                     2.706650\n",
       "home_ownership                 0.000000\n",
       "annual_inc                     0.000000\n",
       "verification_status            0.000000\n",
       "issue_d                        0.000000\n",
       "loan_status                    0.000000\n",
       "pymnt_plan                     0.000000\n",
       "url                            0.000000\n",
       "desc                          32.580507\n",
       "purpose                        0.000000\n",
       "title                          0.027696\n",
       "zip_code                       0.000000\n",
       "addr_state                     0.000000\n",
       "dti                            0.000000\n",
       "delinq_2yrs                    0.000000\n",
       "earliest_cr_line               0.000000\n",
       "inq_last_6mths                 0.000000\n",
       "mths_since_last_delinq        64.662487\n",
       "mths_since_last_record        92.985372\n",
       "open_acc                       0.000000\n",
       "pub_rec                        0.000000\n",
       "revol_bal                      0.000000\n",
       "revol_util                     0.125891\n",
       "total_acc                      0.000000\n",
       "initial_list_status            0.000000\n",
       "out_prncp                      0.000000\n",
       "out_prncp_inv                  0.000000\n",
       "total_pymnt                    0.000000\n",
       "total_pymnt_inv                0.000000\n",
       "total_rec_prncp                0.000000\n",
       "total_rec_int                  0.000000\n",
       "total_rec_late_fee             0.000000\n",
       "recoveries                     0.000000\n",
       "collection_recovery_fee        0.000000\n",
       "last_pymnt_d                   0.178765\n",
       "last_pymnt_amnt                0.000000\n",
       "next_pymnt_d                  97.129693\n",
       "last_credit_pull_d             0.005036\n",
       "collections_12_mths_ex_med     0.140998\n",
       "policy_code                    0.000000\n",
       "application_type               0.000000\n",
       "acc_now_delinq                 0.000000\n",
       "chargeoff_within_12_mths       0.140998\n",
       "delinq_amnt                    0.000000\n",
       "pub_rec_bankruptcies           1.754916\n",
       "tax_liens                      0.098195\n",
       "dtype: float64"
      ]
     },
     "execution_count": 4,
     "metadata": {},
     "output_type": "execute_result"
    }
   ],
   "source": [
    "# Removing all columns having all entries as nan\n",
    "loan.dropna(axis='columns',how='all', inplace=True)\n",
    "\n",
    "#Identifying other in-significant columns\n",
    "\n",
    "(loan.isna().sum(axis=0)*100)/len(loan)"
   ]
  },
  {
   "cell_type": "code",
   "execution_count": 5,
   "metadata": {},
   "outputs": [],
   "source": [
    "# Removing columns which have more that 80% of cells as nan\n",
    "loan.drop(['next_pymnt_d','mths_since_last_record'],axis=1,inplace = True)"
   ]
  },
  {
   "cell_type": "markdown",
   "metadata": {},
   "source": [
    "Now we identify the columns that are redundant based on the number of unique values there are in each column "
   ]
  },
  {
   "cell_type": "code",
   "execution_count": 6,
   "metadata": {},
   "outputs": [
    {
     "name": "stdout",
     "output_type": "stream",
     "text": [
      "--------- term ----------\n",
      "[' 36 months' ' 60 months']\n",
      "--------- grade ----------\n",
      "['B' 'C' 'A' 'E' 'F' 'D' 'G']\n",
      "--------- sub_grade ----------\n",
      "['B2' 'C4' 'C5' 'C1' 'B5' 'A4' 'E1' 'F2' 'C3' 'B1' 'D1' 'A1' 'B3' 'B4'\n",
      " 'C2' 'D2' 'A3' 'A5' 'D5' 'A2' 'E4' 'D3' 'D4' 'F3' 'E3' 'F4' 'F1' 'E5'\n",
      " 'G4' 'E2' 'G3' 'G2' 'G1' 'F5' 'G5']\n",
      "--------- home_ownership ----------\n",
      "['RENT' 'OWN' 'MORTGAGE' 'OTHER' 'NONE']\n",
      "--------- verification_status ----------\n",
      "['Verified' 'Source Verified' 'Not Verified']\n",
      "--------- loan_status ----------\n",
      "['Fully Paid' 'Charged Off' 'Current']\n",
      "--------- pymnt_plan ----------\n",
      "['n']\n",
      "--------- purpose ----------\n",
      "['credit_card' 'car' 'small_business' 'other' 'wedding'\n",
      " 'debt_consolidation' 'home_improvement' 'major_purchase' 'medical'\n",
      " 'moving' 'vacation' 'house' 'renewable_energy' 'educational']\n",
      "--------- title ----------\n",
      "['Computer' 'bike' 'real estate business' ... 'Retiring credit card debt'\n",
      " 'MBA Loan Consolidation' 'JAL Loan']\n",
      "--------- delinq_2yrs ----------\n",
      "[ 0  2  3  1  4  6  5  8  7  9 11]\n",
      "--------- inq_last_6mths ----------\n",
      "[1 5 2 0 3 4 6 7 8]\n",
      "--------- mths_since_last_delinq ----------\n",
      "[ nan  35.  38.  61.   8.  20.  18.  68.  45.  48.  41.  40.  74.  25.\n",
      "  53.  39.  10.  26.  56.  77.  28.  52.  24.  16.  60.  54.  23.   9.\n",
      "  11.  13.  65.  19.  80.  22.  59.  79.  44.  64.  57.  14.  63.  49.\n",
      "  15.  73.  70.  29.  51.   5.  75.  55.   2.  30.  47.  33.  69.   4.\n",
      "  43.  21.  27.  46.  81.  78.  82.  31.  76.  62.  72.  42.  50.   3.\n",
      "  12.  67.  36.  34.  58.  17.  71.  66.  32.   6.  37.   7.   1.  83.\n",
      "  86. 115.  96. 103. 120. 106.  89. 107.  85.  97.  95.   0.]\n",
      "--------- open_acc ----------\n",
      "[ 3  2 10 15  9  7  4 11 14 12 20  8  6 17  5 13 16 30 21 18 19 27 23 34\n",
      " 25 22 24 26 32 28 29 33 31 39 35 36 38 44 41 42]\n",
      "--------- pub_rec ----------\n",
      "[0 1 2 3 4]\n",
      "--------- total_acc ----------\n",
      "[ 9  4 10 37 38 12 11 13  3 23 34 29 28 42 14 22 21 17  7 31 44 26 16  6\n",
      " 18 27 24 25 40 35  8 20 15 19 36 51 32 30 33 46  5 61 56 50 41 39 79 62\n",
      " 43 47 53 45 60 55 52 58 54 57 49 63 48 59 77 87 75 72 64 67 78 76 74 66\n",
      " 81 90 80 71 69 73 70 68 65  2]\n",
      "--------- initial_list_status ----------\n",
      "['f']\n",
      "--------- total_pymnt ----------\n",
      "[5863.155187 1008.71     3005.666844 ... 5272.161128 5174.198551\n",
      " 9195.263334]\n",
      "--------- total_rec_prncp ----------\n",
      "[ 5000.     456.46  2400.   ...  2886.21   544.02 16077.42]\n",
      "--------- collections_12_mths_ex_med ----------\n",
      "[ 0. nan]\n",
      "--------- policy_code ----------\n",
      "[1]\n",
      "--------- application_type ----------\n",
      "['INDIVIDUAL']\n",
      "--------- acc_now_delinq ----------\n",
      "[0]\n",
      "--------- chargeoff_within_12_mths ----------\n",
      "[ 0. nan]\n",
      "--------- pub_rec_bankruptcies ----------\n",
      "[ 0.  1.  2. nan]\n",
      "--------- tax_liens ----------\n",
      "[ 0. nan]\n"
     ]
    }
   ],
   "source": [
    "columns = ['term','grade','sub_grade','home_ownership','verification_status',\n",
    "'loan_status','pymnt_plan','purpose','title','delinq_2yrs',\n",
    "'inq_last_6mths','mths_since_last_delinq','open_acc',\n",
    "'pub_rec','total_acc','initial_list_status','total_pymnt',\n",
    "'total_rec_prncp',\n",
    "'collections_12_mths_ex_med',\n",
    "'policy_code','application_type','acc_now_delinq','chargeoff_within_12_mths',\n",
    "'pub_rec_bankruptcies','tax_liens']\n",
    "\n",
    "for col in columns:\n",
    "    print('---------',col,'----------')\n",
    "    print(loan[col].unique())"
   ]
  },
  {
   "cell_type": "code",
   "execution_count": 7,
   "metadata": {
    "scrolled": true
   },
   "outputs": [
    {
     "data": {
      "text/html": [
       "<div>\n",
       "<style scoped>\n",
       "    .dataframe tbody tr th:only-of-type {\n",
       "        vertical-align: middle;\n",
       "    }\n",
       "\n",
       "    .dataframe tbody tr th {\n",
       "        vertical-align: top;\n",
       "    }\n",
       "\n",
       "    .dataframe thead th {\n",
       "        text-align: right;\n",
       "    }\n",
       "</style>\n",
       "<table border=\"1\" class=\"dataframe\">\n",
       "  <thead>\n",
       "    <tr style=\"text-align: right;\">\n",
       "      <th></th>\n",
       "      <th>id</th>\n",
       "      <th>member_id</th>\n",
       "      <th>loan_amnt</th>\n",
       "      <th>funded_amnt</th>\n",
       "      <th>funded_amnt_inv</th>\n",
       "      <th>term</th>\n",
       "      <th>int_rate</th>\n",
       "      <th>installment</th>\n",
       "      <th>grade</th>\n",
       "      <th>sub_grade</th>\n",
       "      <th>...</th>\n",
       "      <th>total_rec_prncp</th>\n",
       "      <th>total_rec_int</th>\n",
       "      <th>total_rec_late_fee</th>\n",
       "      <th>recoveries</th>\n",
       "      <th>collection_recovery_fee</th>\n",
       "      <th>last_pymnt_d</th>\n",
       "      <th>last_pymnt_amnt</th>\n",
       "      <th>last_credit_pull_d</th>\n",
       "      <th>delinq_amnt</th>\n",
       "      <th>pub_rec_bankruptcies</th>\n",
       "    </tr>\n",
       "  </thead>\n",
       "  <tbody>\n",
       "    <tr>\n",
       "      <th>0</th>\n",
       "      <td>1077501</td>\n",
       "      <td>1296599</td>\n",
       "      <td>5000</td>\n",
       "      <td>5000</td>\n",
       "      <td>4975.0</td>\n",
       "      <td>36 months</td>\n",
       "      <td>10.65%</td>\n",
       "      <td>162.87</td>\n",
       "      <td>B</td>\n",
       "      <td>B2</td>\n",
       "      <td>...</td>\n",
       "      <td>5000.00</td>\n",
       "      <td>863.16</td>\n",
       "      <td>0.00</td>\n",
       "      <td>0.00</td>\n",
       "      <td>0.00</td>\n",
       "      <td>Jan-15</td>\n",
       "      <td>171.62</td>\n",
       "      <td>May-16</td>\n",
       "      <td>0</td>\n",
       "      <td>0.0</td>\n",
       "    </tr>\n",
       "    <tr>\n",
       "      <th>1</th>\n",
       "      <td>1077430</td>\n",
       "      <td>1314167</td>\n",
       "      <td>2500</td>\n",
       "      <td>2500</td>\n",
       "      <td>2500.0</td>\n",
       "      <td>60 months</td>\n",
       "      <td>15.27%</td>\n",
       "      <td>59.83</td>\n",
       "      <td>C</td>\n",
       "      <td>C4</td>\n",
       "      <td>...</td>\n",
       "      <td>456.46</td>\n",
       "      <td>435.17</td>\n",
       "      <td>0.00</td>\n",
       "      <td>117.08</td>\n",
       "      <td>1.11</td>\n",
       "      <td>Apr-13</td>\n",
       "      <td>119.66</td>\n",
       "      <td>Sep-13</td>\n",
       "      <td>0</td>\n",
       "      <td>0.0</td>\n",
       "    </tr>\n",
       "    <tr>\n",
       "      <th>2</th>\n",
       "      <td>1077175</td>\n",
       "      <td>1313524</td>\n",
       "      <td>2400</td>\n",
       "      <td>2400</td>\n",
       "      <td>2400.0</td>\n",
       "      <td>36 months</td>\n",
       "      <td>15.96%</td>\n",
       "      <td>84.33</td>\n",
       "      <td>C</td>\n",
       "      <td>C5</td>\n",
       "      <td>...</td>\n",
       "      <td>2400.00</td>\n",
       "      <td>605.67</td>\n",
       "      <td>0.00</td>\n",
       "      <td>0.00</td>\n",
       "      <td>0.00</td>\n",
       "      <td>Jun-14</td>\n",
       "      <td>649.91</td>\n",
       "      <td>May-16</td>\n",
       "      <td>0</td>\n",
       "      <td>0.0</td>\n",
       "    </tr>\n",
       "    <tr>\n",
       "      <th>3</th>\n",
       "      <td>1076863</td>\n",
       "      <td>1277178</td>\n",
       "      <td>10000</td>\n",
       "      <td>10000</td>\n",
       "      <td>10000.0</td>\n",
       "      <td>36 months</td>\n",
       "      <td>13.49%</td>\n",
       "      <td>339.31</td>\n",
       "      <td>C</td>\n",
       "      <td>C1</td>\n",
       "      <td>...</td>\n",
       "      <td>10000.00</td>\n",
       "      <td>2214.92</td>\n",
       "      <td>16.97</td>\n",
       "      <td>0.00</td>\n",
       "      <td>0.00</td>\n",
       "      <td>Jan-15</td>\n",
       "      <td>357.48</td>\n",
       "      <td>Apr-16</td>\n",
       "      <td>0</td>\n",
       "      <td>0.0</td>\n",
       "    </tr>\n",
       "    <tr>\n",
       "      <th>4</th>\n",
       "      <td>1075358</td>\n",
       "      <td>1311748</td>\n",
       "      <td>3000</td>\n",
       "      <td>3000</td>\n",
       "      <td>3000.0</td>\n",
       "      <td>60 months</td>\n",
       "      <td>12.69%</td>\n",
       "      <td>67.79</td>\n",
       "      <td>B</td>\n",
       "      <td>B5</td>\n",
       "      <td>...</td>\n",
       "      <td>2475.94</td>\n",
       "      <td>1037.39</td>\n",
       "      <td>0.00</td>\n",
       "      <td>0.00</td>\n",
       "      <td>0.00</td>\n",
       "      <td>May-16</td>\n",
       "      <td>67.79</td>\n",
       "      <td>May-16</td>\n",
       "      <td>0</td>\n",
       "      <td>0.0</td>\n",
       "    </tr>\n",
       "  </tbody>\n",
       "</table>\n",
       "<p>5 rows × 47 columns</p>\n",
       "</div>"
      ],
      "text/plain": [
       "        id  member_id  loan_amnt  funded_amnt  funded_amnt_inv        term  \\\n",
       "0  1077501    1296599       5000         5000           4975.0   36 months   \n",
       "1  1077430    1314167       2500         2500           2500.0   60 months   \n",
       "2  1077175    1313524       2400         2400           2400.0   36 months   \n",
       "3  1076863    1277178      10000        10000          10000.0   36 months   \n",
       "4  1075358    1311748       3000         3000           3000.0   60 months   \n",
       "\n",
       "  int_rate  installment grade sub_grade  ... total_rec_prncp total_rec_int  \\\n",
       "0   10.65%       162.87     B        B2  ...         5000.00        863.16   \n",
       "1   15.27%        59.83     C        C4  ...          456.46        435.17   \n",
       "2   15.96%        84.33     C        C5  ...         2400.00        605.67   \n",
       "3   13.49%       339.31     C        C1  ...        10000.00       2214.92   \n",
       "4   12.69%        67.79     B        B5  ...         2475.94       1037.39   \n",
       "\n",
       "  total_rec_late_fee  recoveries collection_recovery_fee last_pymnt_d  \\\n",
       "0               0.00        0.00                    0.00       Jan-15   \n",
       "1               0.00      117.08                    1.11       Apr-13   \n",
       "2               0.00        0.00                    0.00       Jun-14   \n",
       "3              16.97        0.00                    0.00       Jan-15   \n",
       "4               0.00        0.00                    0.00       May-16   \n",
       "\n",
       "  last_pymnt_amnt last_credit_pull_d delinq_amnt pub_rec_bankruptcies  \n",
       "0          171.62             May-16           0                  0.0  \n",
       "1          119.66             Sep-13           0                  0.0  \n",
       "2          649.91             May-16           0                  0.0  \n",
       "3          357.48             Apr-16           0                  0.0  \n",
       "4           67.79             May-16           0                  0.0  \n",
       "\n",
       "[5 rows x 47 columns]"
      ]
     },
     "execution_count": 7,
     "metadata": {},
     "output_type": "execute_result"
    }
   ],
   "source": [
    "loan.drop(['pymnt_plan','initial_list_status', \n",
    "           'collections_12_mths_ex_med', \n",
    "           'policy_code', 'application_type', \n",
    "           'acc_now_delinq','tax_liens',\n",
    "           'chargeoff_within_12_mths'], axis=1, inplace=True)\n",
    "\n",
    "loan.head(5)"
   ]
  },
  {
   "cell_type": "markdown",
   "metadata": {},
   "source": [
    "### Cleaning the columns for Analytics"
   ]
  },
  {
   "cell_type": "code",
   "execution_count": 8,
   "metadata": {},
   "outputs": [],
   "source": [
    "loan['int_rate'] = loan['int_rate'].str.replace('%',\"\").astype(float)\n",
    "loan['emp_length_numeric'] = pd.to_numeric(loan['emp_length'].str.replace('year',\"\").str.replace('s',\"\").str.replace('< 1','0').str.replace(' ','').str.replace('+',''))\n",
    "loan['revol_util'] =  loan['revol_util'].str.replace('%',\"\").astype(float)"
   ]
  },
  {
   "cell_type": "code",
   "execution_count": 9,
   "metadata": {},
   "outputs": [],
   "source": [
    "#extracting month and day from last_pymnt_d\n",
    "loan['last_pymnt_d_month'] = loan['last_pymnt_d'].str.split(\"-\").str[1]\n",
    "loan['last_pymnt_d_day'] = loan['last_pymnt_d'].str.split(\"-\").str[0]\n",
    "\n",
    "#extracting month and day from last_credit_pull_d\n",
    "loan['last_credit_pull_d_month'] = loan['last_credit_pull_d'].str.split(\"-\").str[1]\n",
    "loan['last_credit_pull_d_day'] = loan['last_credit_pull_d'].str.split(\"-\").str[0]\n",
    "\n",
    "#extracting month and day from last_credit_pull_d\n",
    "loan['last_credit_pull_d_month'] = loan['last_credit_pull_d'].str.split(\"-\").str[1]\n",
    "loan['last_credit_pull_d_day'] = loan['last_credit_pull_d'].str.split(\"-\").str[0]\n",
    "\n",
    "#extracting month and day from issue_d_month\n",
    "loan['issue_d_month'] = loan['issue_d'].str.split(\"-\").str[1]\n",
    "loan['issue_d_day'] = loan['issue_d'].str.split(\"-\").str[0]"
   ]
  },
  {
   "cell_type": "code",
   "execution_count": 10,
   "metadata": {},
   "outputs": [
    {
     "data": {
      "text/plain": [
       "Fully Paid     82.961956\n",
       "Charged Off    14.167737\n",
       "Current         2.870307\n",
       "Name: loan_status, dtype: float64"
      ]
     },
     "execution_count": 10,
     "metadata": {},
     "output_type": "execute_result"
    }
   ],
   "source": [
    "(loan['loan_status'].value_counts()/len(loan))*100"
   ]
  },
  {
   "cell_type": "code",
   "execution_count": 11,
   "metadata": {},
   "outputs": [
    {
     "data": {
      "text/html": [
       "<div>\n",
       "<style scoped>\n",
       "    .dataframe tbody tr th:only-of-type {\n",
       "        vertical-align: middle;\n",
       "    }\n",
       "\n",
       "    .dataframe tbody tr th {\n",
       "        vertical-align: top;\n",
       "    }\n",
       "\n",
       "    .dataframe thead th {\n",
       "        text-align: right;\n",
       "    }\n",
       "</style>\n",
       "<table border=\"1\" class=\"dataframe\">\n",
       "  <thead>\n",
       "    <tr style=\"text-align: right;\">\n",
       "      <th></th>\n",
       "      <th>id</th>\n",
       "      <th>member_id</th>\n",
       "      <th>loan_amnt</th>\n",
       "      <th>funded_amnt</th>\n",
       "      <th>funded_amnt_inv</th>\n",
       "      <th>term</th>\n",
       "      <th>int_rate</th>\n",
       "      <th>installment</th>\n",
       "      <th>grade</th>\n",
       "      <th>sub_grade</th>\n",
       "      <th>...</th>\n",
       "      <th>last_credit_pull_d</th>\n",
       "      <th>delinq_amnt</th>\n",
       "      <th>pub_rec_bankruptcies</th>\n",
       "      <th>emp_length_numeric</th>\n",
       "      <th>last_pymnt_d_month</th>\n",
       "      <th>last_pymnt_d_day</th>\n",
       "      <th>last_credit_pull_d_month</th>\n",
       "      <th>last_credit_pull_d_day</th>\n",
       "      <th>issue_d_month</th>\n",
       "      <th>issue_d_day</th>\n",
       "    </tr>\n",
       "  </thead>\n",
       "  <tbody>\n",
       "    <tr>\n",
       "      <th>0</th>\n",
       "      <td>1077501</td>\n",
       "      <td>1296599</td>\n",
       "      <td>5000</td>\n",
       "      <td>5000</td>\n",
       "      <td>4975.0</td>\n",
       "      <td>36 months</td>\n",
       "      <td>10.65</td>\n",
       "      <td>162.87</td>\n",
       "      <td>B</td>\n",
       "      <td>B2</td>\n",
       "      <td>...</td>\n",
       "      <td>May-16</td>\n",
       "      <td>0</td>\n",
       "      <td>0.0</td>\n",
       "      <td>10.0</td>\n",
       "      <td>15</td>\n",
       "      <td>Jan</td>\n",
       "      <td>16</td>\n",
       "      <td>May</td>\n",
       "      <td>11</td>\n",
       "      <td>Dec</td>\n",
       "    </tr>\n",
       "    <tr>\n",
       "      <th>1</th>\n",
       "      <td>1077430</td>\n",
       "      <td>1314167</td>\n",
       "      <td>2500</td>\n",
       "      <td>2500</td>\n",
       "      <td>2500.0</td>\n",
       "      <td>60 months</td>\n",
       "      <td>15.27</td>\n",
       "      <td>59.83</td>\n",
       "      <td>C</td>\n",
       "      <td>C4</td>\n",
       "      <td>...</td>\n",
       "      <td>Sep-13</td>\n",
       "      <td>0</td>\n",
       "      <td>0.0</td>\n",
       "      <td>0.0</td>\n",
       "      <td>13</td>\n",
       "      <td>Apr</td>\n",
       "      <td>13</td>\n",
       "      <td>Sep</td>\n",
       "      <td>11</td>\n",
       "      <td>Dec</td>\n",
       "    </tr>\n",
       "    <tr>\n",
       "      <th>2</th>\n",
       "      <td>1077175</td>\n",
       "      <td>1313524</td>\n",
       "      <td>2400</td>\n",
       "      <td>2400</td>\n",
       "      <td>2400.0</td>\n",
       "      <td>36 months</td>\n",
       "      <td>15.96</td>\n",
       "      <td>84.33</td>\n",
       "      <td>C</td>\n",
       "      <td>C5</td>\n",
       "      <td>...</td>\n",
       "      <td>May-16</td>\n",
       "      <td>0</td>\n",
       "      <td>0.0</td>\n",
       "      <td>10.0</td>\n",
       "      <td>14</td>\n",
       "      <td>Jun</td>\n",
       "      <td>16</td>\n",
       "      <td>May</td>\n",
       "      <td>11</td>\n",
       "      <td>Dec</td>\n",
       "    </tr>\n",
       "    <tr>\n",
       "      <th>3</th>\n",
       "      <td>1076863</td>\n",
       "      <td>1277178</td>\n",
       "      <td>10000</td>\n",
       "      <td>10000</td>\n",
       "      <td>10000.0</td>\n",
       "      <td>36 months</td>\n",
       "      <td>13.49</td>\n",
       "      <td>339.31</td>\n",
       "      <td>C</td>\n",
       "      <td>C1</td>\n",
       "      <td>...</td>\n",
       "      <td>Apr-16</td>\n",
       "      <td>0</td>\n",
       "      <td>0.0</td>\n",
       "      <td>10.0</td>\n",
       "      <td>15</td>\n",
       "      <td>Jan</td>\n",
       "      <td>16</td>\n",
       "      <td>Apr</td>\n",
       "      <td>11</td>\n",
       "      <td>Dec</td>\n",
       "    </tr>\n",
       "    <tr>\n",
       "      <th>4</th>\n",
       "      <td>1075358</td>\n",
       "      <td>1311748</td>\n",
       "      <td>3000</td>\n",
       "      <td>3000</td>\n",
       "      <td>3000.0</td>\n",
       "      <td>60 months</td>\n",
       "      <td>12.69</td>\n",
       "      <td>67.79</td>\n",
       "      <td>B</td>\n",
       "      <td>B5</td>\n",
       "      <td>...</td>\n",
       "      <td>May-16</td>\n",
       "      <td>0</td>\n",
       "      <td>0.0</td>\n",
       "      <td>1.0</td>\n",
       "      <td>16</td>\n",
       "      <td>May</td>\n",
       "      <td>16</td>\n",
       "      <td>May</td>\n",
       "      <td>11</td>\n",
       "      <td>Dec</td>\n",
       "    </tr>\n",
       "  </tbody>\n",
       "</table>\n",
       "<p>5 rows × 54 columns</p>\n",
       "</div>"
      ],
      "text/plain": [
       "        id  member_id  loan_amnt  funded_amnt  funded_amnt_inv        term  \\\n",
       "0  1077501    1296599       5000         5000           4975.0   36 months   \n",
       "1  1077430    1314167       2500         2500           2500.0   60 months   \n",
       "2  1077175    1313524       2400         2400           2400.0   36 months   \n",
       "3  1076863    1277178      10000        10000          10000.0   36 months   \n",
       "4  1075358    1311748       3000         3000           3000.0   60 months   \n",
       "\n",
       "   int_rate  installment grade sub_grade  ... last_credit_pull_d delinq_amnt  \\\n",
       "0     10.65       162.87     B        B2  ...             May-16           0   \n",
       "1     15.27        59.83     C        C4  ...             Sep-13           0   \n",
       "2     15.96        84.33     C        C5  ...             May-16           0   \n",
       "3     13.49       339.31     C        C1  ...             Apr-16           0   \n",
       "4     12.69        67.79     B        B5  ...             May-16           0   \n",
       "\n",
       "  pub_rec_bankruptcies  emp_length_numeric last_pymnt_d_month  \\\n",
       "0                  0.0                10.0                 15   \n",
       "1                  0.0                 0.0                 13   \n",
       "2                  0.0                10.0                 14   \n",
       "3                  0.0                10.0                 15   \n",
       "4                  0.0                 1.0                 16   \n",
       "\n",
       "  last_pymnt_d_day last_credit_pull_d_month last_credit_pull_d_day  \\\n",
       "0              Jan                       16                    May   \n",
       "1              Apr                       13                    Sep   \n",
       "2              Jun                       16                    May   \n",
       "3              Jan                       16                    Apr   \n",
       "4              May                       16                    May   \n",
       "\n",
       "  issue_d_month issue_d_day  \n",
       "0            11         Dec  \n",
       "1            11         Dec  \n",
       "2            11         Dec  \n",
       "3            11         Dec  \n",
       "4            11         Dec  \n",
       "\n",
       "[5 rows x 54 columns]"
      ]
     },
     "execution_count": 11,
     "metadata": {},
     "output_type": "execute_result"
    }
   ],
   "source": [
    "loan.head(5)"
   ]
  },
  {
   "cell_type": "code",
   "execution_count": 12,
   "metadata": {},
   "outputs": [],
   "source": [
    "def percentile(n):\n",
    "    def percentile_(x):\n",
    "        return np.percentile(x, n)\n",
    "    percentile_.__name__ = 'percentile_%s' % n\n",
    "    return percentile_\n"
   ]
  },
  {
   "cell_type": "code",
   "execution_count": 16,
   "metadata": {},
   "outputs": [
    {
     "data": {
      "text/html": [
       "<div>\n",
       "<style scoped>\n",
       "    .dataframe tbody tr th:only-of-type {\n",
       "        vertical-align: middle;\n",
       "    }\n",
       "\n",
       "    .dataframe tbody tr th {\n",
       "        vertical-align: top;\n",
       "    }\n",
       "\n",
       "    .dataframe thead th {\n",
       "        text-align: right;\n",
       "    }\n",
       "</style>\n",
       "<table border=\"1\" class=\"dataframe\">\n",
       "  <thead>\n",
       "    <tr style=\"text-align: right;\">\n",
       "      <th></th>\n",
       "      <th>min</th>\n",
       "      <th>max</th>\n",
       "      <th>mean</th>\n",
       "      <th>median</th>\n",
       "      <th>percentile_50</th>\n",
       "      <th>percentile_95</th>\n",
       "    </tr>\n",
       "    <tr>\n",
       "      <th>loan_status</th>\n",
       "      <th></th>\n",
       "      <th></th>\n",
       "      <th></th>\n",
       "      <th></th>\n",
       "      <th></th>\n",
       "      <th></th>\n",
       "    </tr>\n",
       "  </thead>\n",
       "  <tbody>\n",
       "    <tr>\n",
       "      <th>Charged Off</th>\n",
       "      <td>900</td>\n",
       "      <td>35000</td>\n",
       "      <td>12104.385108</td>\n",
       "      <td>10000</td>\n",
       "      <td>10000</td>\n",
       "      <td>27300</td>\n",
       "    </tr>\n",
       "    <tr>\n",
       "      <th>Current</th>\n",
       "      <td>1000</td>\n",
       "      <td>35000</td>\n",
       "      <td>17053.991228</td>\n",
       "      <td>15825</td>\n",
       "      <td>15825</td>\n",
       "      <td>35000</td>\n",
       "    </tr>\n",
       "    <tr>\n",
       "      <th>Fully Paid</th>\n",
       "      <td>500</td>\n",
       "      <td>35000</td>\n",
       "      <td>10866.455994</td>\n",
       "      <td>9600</td>\n",
       "      <td>9600</td>\n",
       "      <td>25000</td>\n",
       "    </tr>\n",
       "  </tbody>\n",
       "</table>\n",
       "</div>"
      ],
      "text/plain": [
       "              min    max          mean  median  percentile_50  percentile_95\n",
       "loan_status                                                                 \n",
       "Charged Off   900  35000  12104.385108   10000          10000          27300\n",
       "Current      1000  35000  17053.991228   15825          15825          35000\n",
       "Fully Paid    500  35000  10866.455994    9600           9600          25000"
      ]
     },
     "execution_count": 16,
     "metadata": {},
     "output_type": "execute_result"
    }
   ],
   "source": [
    "loan.groupby('loan_status')['loan_amnt'].agg(['min','max','mean','median',percentile(50), percentile(95)])"
   ]
  },
  {
   "cell_type": "markdown",
   "metadata": {},
   "source": [
    "From above we can see that the median of default customers is somewhat higher than that of Fully pain and Current.\n",
    "\n",
    "Therefore we can conclude that DEFAULT Customers have applied for Ligh Loan Amount."
   ]
  },
  {
   "cell_type": "code",
   "execution_count": 21,
   "metadata": {},
   "outputs": [
    {
     "data": {
      "image/png": "[encoded data removed]",
      "text/plain": [
       "<Figure size 432x288 with 1 Axes>"
      ]
     },
     "metadata": {},
     "output_type": "display_data"
    }
   ],
   "source": [
    "temp = loan.groupby('loan_status')['loan_amnt'].agg(['median'])\n",
    "temp.reset_index(inplace=True)\n",
    "temp.rename(columns = {'median':'Loan_amount'}, inplace = True)\n",
    "\n",
    "sns.set(style=\"whitegrid\")\n",
    "#tips = sns.load_dataset(\"tips\")\n",
    "ax = sns.barplot(x=\"loan_status\", y=\"Loan_amount\", data=temp)"
   ]
  },
  {
   "cell_type": "code",
   "execution_count": 18,
   "metadata": {},
   "outputs": [
    {
     "data": {
      "text/html": [
       "<div>\n",
       "<style scoped>\n",
       "    .dataframe tbody tr th:only-of-type {\n",
       "        vertical-align: middle;\n",
       "    }\n",
       "\n",
       "    .dataframe tbody tr th {\n",
       "        vertical-align: top;\n",
       "    }\n",
       "\n",
       "    .dataframe thead th {\n",
       "        text-align: right;\n",
       "    }\n",
       "</style>\n",
       "<table border=\"1\" class=\"dataframe\">\n",
       "  <thead>\n",
       "    <tr style=\"text-align: right;\">\n",
       "      <th></th>\n",
       "      <th>min</th>\n",
       "      <th>max</th>\n",
       "      <th>mean</th>\n",
       "      <th>median</th>\n",
       "      <th>percentile_50</th>\n",
       "      <th>percentile_95</th>\n",
       "    </tr>\n",
       "    <tr>\n",
       "      <th>loan_status</th>\n",
       "      <th></th>\n",
       "      <th></th>\n",
       "      <th></th>\n",
       "      <th></th>\n",
       "      <th></th>\n",
       "      <th></th>\n",
       "    </tr>\n",
       "  </thead>\n",
       "  <tbody>\n",
       "    <tr>\n",
       "      <th>Charged Off</th>\n",
       "      <td>900</td>\n",
       "      <td>35000</td>\n",
       "      <td>11753.398792</td>\n",
       "      <td>10000</td>\n",
       "      <td>10000</td>\n",
       "      <td>25000.0</td>\n",
       "    </tr>\n",
       "    <tr>\n",
       "      <th>Current</th>\n",
       "      <td>1000</td>\n",
       "      <td>35000</td>\n",
       "      <td>16485.701754</td>\n",
       "      <td>15225</td>\n",
       "      <td>15225</td>\n",
       "      <td>33620.0</td>\n",
       "    </tr>\n",
       "    <tr>\n",
       "      <th>Fully Paid</th>\n",
       "      <td>500</td>\n",
       "      <td>35000</td>\n",
       "      <td>10618.520486</td>\n",
       "      <td>9200</td>\n",
       "      <td>9200</td>\n",
       "      <td>25000.0</td>\n",
       "    </tr>\n",
       "  </tbody>\n",
       "</table>\n",
       "</div>"
      ],
      "text/plain": [
       "              min    max          mean  median  percentile_50  percentile_95\n",
       "loan_status                                                                 \n",
       "Charged Off   900  35000  11753.398792   10000          10000        25000.0\n",
       "Current      1000  35000  16485.701754   15225          15225        33620.0\n",
       "Fully Paid    500  35000  10618.520486    9200           9200        25000.0"
      ]
     },
     "execution_count": 18,
     "metadata": {},
     "output_type": "execute_result"
    }
   ],
   "source": [
    "loan.groupby('loan_status')['funded_amnt'].agg(['min','max','mean','median',percentile(50), percentile(95)])\n",
    "#Default customers have high funded amount"
   ]
  },
  {
   "cell_type": "code",
   "execution_count": 19,
   "metadata": {},
   "outputs": [
    {
     "data": {
      "text/html": [
       "<div>\n",
       "<style scoped>\n",
       "    .dataframe tbody tr th:only-of-type {\n",
       "        vertical-align: middle;\n",
       "    }\n",
       "\n",
       "    .dataframe tbody tr th {\n",
       "        vertical-align: top;\n",
       "    }\n",
       "\n",
       "    .dataframe thead th {\n",
       "        text-align: right;\n",
       "    }\n",
       "</style>\n",
       "<table border=\"1\" class=\"dataframe\">\n",
       "  <thead>\n",
       "    <tr style=\"text-align: right;\">\n",
       "      <th></th>\n",
       "      <th>loan_amnt</th>\n",
       "      <th>funded_amnt</th>\n",
       "      <th>percentage_amnt_funded</th>\n",
       "    </tr>\n",
       "    <tr>\n",
       "      <th>loan_status</th>\n",
       "      <th></th>\n",
       "      <th></th>\n",
       "      <th></th>\n",
       "    </tr>\n",
       "  </thead>\n",
       "  <tbody>\n",
       "    <tr>\n",
       "      <th>Charged Off</th>\n",
       "      <td>68111375</td>\n",
       "      <td>66136375</td>\n",
       "      <td>0.971003</td>\n",
       "    </tr>\n",
       "    <tr>\n",
       "      <th>Current</th>\n",
       "      <td>19441550</td>\n",
       "      <td>18793700</td>\n",
       "      <td>0.966677</td>\n",
       "    </tr>\n",
       "    <tr>\n",
       "      <th>Fully Paid</th>\n",
       "      <td>358049725</td>\n",
       "      <td>349880250</td>\n",
       "      <td>0.977183</td>\n",
       "    </tr>\n",
       "  </tbody>\n",
       "</table>\n",
       "</div>"
      ],
      "text/plain": [
       "             loan_amnt  funded_amnt  percentage_amnt_funded\n",
       "loan_status                                                \n",
       "Charged Off   68111375     66136375                0.971003\n",
       "Current       19441550     18793700                0.966677\n",
       "Fully Paid   358049725    349880250                0.977183"
      ]
     },
     "execution_count": 19,
     "metadata": {},
     "output_type": "execute_result"
    }
   ],
   "source": [
    "\n",
    "loan.groupby('loan_status')['loan_amnt','funded_amnt'].sum().eval('percentage_amnt_funded = funded_amnt / loan_amnt')\n",
    "#There is no significant difference in % of amount funded  for all 3 categories of loan status\n"
   ]
  },
  {
   "cell_type": "markdown",
   "metadata": {},
   "source": [
    "Since higher interest brings higher income for fincaial institution.However, at the as time it can leads to customers switching to competitors\n",
    "Also,the high intreset rates are levied to risky customer\n",
    "So, lets see what are the factors that impact the ROI"
   ]
  },
  {
   "cell_type": "code",
   "execution_count": 15,
   "metadata": {},
   "outputs": [
    {
     "name": "stdout",
     "output_type": "stream",
     "text": [
      "Corelation value /Impact of DTI on Interest rate  : 0.11116168418161568\n",
      "\n",
      " Impact of type of home ownership on Interst rate :\n",
      "                 median\n",
      "home_ownership        \n",
      "MORTGAGE         11.49\n",
      "NONE              8.70\n",
      "OTHER            11.86\n",
      "OWN              11.58\n",
      "RENT             12.21\n"
     ]
    }
   ],
   "source": [
    "#IMPACT OF DTI ON ROI \n",
    "\n",
    "print('Corelation value /Impact of DTI on Interest rate  :',loan['dti'].corr(loan['int_rate']))\n",
    "\n",
    "#dti does not impact the int_rate much,However,the customer with lower dti is good for business\n",
    "\n",
    "# IMPACT OF HOME OWNERSHIP ON ROI\n",
    "print('\\n Impact of type of home ownership on Interst rate :\\n', loan.groupby(['home_ownership'])['int_rate'].agg(['median']))\n",
    "\n"
   ]
  },
  {
   "cell_type": "code",
   "execution_count": 22,
   "metadata": {},
   "outputs": [
    {
     "data": {
      "image/png": "[encoded data removed]",
      "text/plain": [
       "<Figure size 432x288 with 1 Axes>"
      ]
     },
     "metadata": {},
     "output_type": "display_data"
    }
   ],
   "source": [
    "temp=loan.groupby(['home_ownership'])['int_rate'].agg(['median']).reset_index()\n",
    "sns.set(style=\"whitegrid\")\n",
    "temp.rename(columns = {'median':'Interest Rate'}, inplace = True)\n",
    "ax = sns.barplot(x=\"home_ownership\", y=\"Interest Rate\", data=temp)"
   ]
  },
  {
   "cell_type": "markdown",
   "metadata": {},
   "source": [
    "Frome above we see that, Customer with  \"RENT\" accomodation attracts more intrest rate"
   ]
  },
  {
   "cell_type": "code",
   "execution_count": 24,
   "metadata": {},
   "outputs": [
    {
     "data": {
      "image/png": "[encoded data removed]",
      "text/plain": [
       "<Figure size 432x288 with 1 Axes>"
      ]
     },
     "metadata": {},
     "output_type": "display_data"
    }
   ],
   "source": [
    "loan.groupby(['term'])['int_rate'].agg(['median'])\n",
    "temp = loan.groupby(['term'])['int_rate'].agg(['median'])\n",
    "temp.reset_index(inplace=True)\n",
    "temp.rename(columns = {'median':'Interest Rate'}, inplace = True)\n",
    "\n",
    "sns.set(style=\"whitegrid\")\n",
    "#tips = sns.load_dataset(\"tips\")\n",
    "ax = sns.barplot(x=\"term\", y=\"Interest Rate\", data=temp)\n"
   ]
  },
  {
   "cell_type": "markdown",
   "metadata": {},
   "source": [
    "more tenure attracts more intrest rate "
   ]
  },
  {
   "cell_type": "code",
   "execution_count": 25,
   "metadata": {},
   "outputs": [
    {
     "data": {
      "image/png": "[encoded data removed]",
      "text/plain": [
       "<Figure size 432x288 with 1 Axes>"
      ]
     },
     "metadata": {},
     "output_type": "display_data"
    }
   ],
   "source": [
    "#IMPACT OF GRADE ON INT_RATE\n",
    "loan.groupby(['grade'])['int_rate'].agg(['median'])\n",
    "temp = loan.groupby(['grade'])['int_rate'].agg(['median'])\n",
    "temp.reset_index(inplace=True)\n",
    "temp.rename(columns = {'median':'Interest Rate'}, inplace = True)\n",
    "\n",
    "sns.set(style=\"whitegrid\")\n",
    "#tips = sns.load_dataset(\"tips\")\n",
    "ax = sns.barplot(x=\"grade\", y=\"Interest Rate\", data=temp)"
   ]
  },
  {
   "cell_type": "markdown",
   "metadata": {},
   "source": [
    "grade'A' loans has least intrest rate "
   ]
  },
  {
   "cell_type": "code",
   "execution_count": 26,
   "metadata": {},
   "outputs": [
    {
     "data": {
      "image/png": "[encoded data removed]",
      "text/plain": [
       "<Figure size 432x288 with 1 Axes>"
      ]
     },
     "metadata": {},
     "output_type": "display_data"
    }
   ],
   "source": [
    "temp = loan.groupby(['emp_length'])['int_rate'].agg(['median'])\n",
    "temp.reset_index(inplace=True)\n",
    "temp.rename(columns = {'median':'Interest Rate'}, inplace = True)\n",
    "\n",
    "sns.set(style=\"whitegrid\")\n",
    "ax = sns.barplot(x=\"emp_length\", y=\"Interest Rate\", data=temp)"
   ]
  },
  {
   "cell_type": "markdown",
   "metadata": {},
   "source": [
    "From above visulaization we can conclude that, Emp_Length has no impact on the interst rate"
   ]
  },
  {
   "cell_type": "code",
   "execution_count": 28,
   "metadata": {},
   "outputs": [
    {
     "data": {
      "text/html": [
       "<div>\n",
       "<style scoped>\n",
       "    .dataframe tbody tr th:only-of-type {\n",
       "        vertical-align: middle;\n",
       "    }\n",
       "\n",
       "    .dataframe tbody tr th {\n",
       "        vertical-align: top;\n",
       "    }\n",
       "\n",
       "    .dataframe thead th {\n",
       "        text-align: right;\n",
       "    }\n",
       "</style>\n",
       "<table border=\"1\" class=\"dataframe\">\n",
       "  <thead>\n",
       "    <tr style=\"text-align: right;\">\n",
       "      <th></th>\n",
       "      <th>median</th>\n",
       "    </tr>\n",
       "    <tr>\n",
       "      <th>purpose</th>\n",
       "      <th></th>\n",
       "    </tr>\n",
       "  </thead>\n",
       "  <tbody>\n",
       "    <tr>\n",
       "      <th>car</th>\n",
       "      <td>10.37</td>\n",
       "    </tr>\n",
       "    <tr>\n",
       "      <th>credit_card</th>\n",
       "      <td>11.49</td>\n",
       "    </tr>\n",
       "    <tr>\n",
       "      <th>debt_consolidation</th>\n",
       "      <td>12.42</td>\n",
       "    </tr>\n",
       "    <tr>\n",
       "      <th>educational</th>\n",
       "      <td>11.83</td>\n",
       "    </tr>\n",
       "    <tr>\n",
       "      <th>home_improvement</th>\n",
       "      <td>11.12</td>\n",
       "    </tr>\n",
       "    <tr>\n",
       "      <th>house</th>\n",
       "      <td>11.83</td>\n",
       "    </tr>\n",
       "    <tr>\n",
       "      <th>major_purchase</th>\n",
       "      <td>10.74</td>\n",
       "    </tr>\n",
       "    <tr>\n",
       "      <th>medical</th>\n",
       "      <td>11.34</td>\n",
       "    </tr>\n",
       "    <tr>\n",
       "      <th>moving</th>\n",
       "      <td>11.14</td>\n",
       "    </tr>\n",
       "    <tr>\n",
       "      <th>other</th>\n",
       "      <td>11.71</td>\n",
       "    </tr>\n",
       "    <tr>\n",
       "      <th>renewable_energy</th>\n",
       "      <td>11.11</td>\n",
       "    </tr>\n",
       "    <tr>\n",
       "      <th>small_business</th>\n",
       "      <td>12.99</td>\n",
       "    </tr>\n",
       "    <tr>\n",
       "      <th>vacation</th>\n",
       "      <td>10.65</td>\n",
       "    </tr>\n",
       "    <tr>\n",
       "      <th>wedding</th>\n",
       "      <td>11.78</td>\n",
       "    </tr>\n",
       "  </tbody>\n",
       "</table>\n",
       "</div>"
      ],
      "text/plain": [
       "                    median\n",
       "purpose                   \n",
       "car                  10.37\n",
       "credit_card          11.49\n",
       "debt_consolidation   12.42\n",
       "educational          11.83\n",
       "home_improvement     11.12\n",
       "house                11.83\n",
       "major_purchase       10.74\n",
       "medical              11.34\n",
       "moving               11.14\n",
       "other                11.71\n",
       "renewable_energy     11.11\n",
       "small_business       12.99\n",
       "vacation             10.65\n",
       "wedding              11.78"
      ]
     },
     "execution_count": 28,
     "metadata": {},
     "output_type": "execute_result"
    }
   ],
   "source": [
    "loan.groupby(['purpose'])['int_rate'].agg(['median'])"
   ]
  },
  {
   "cell_type": "markdown",
   "metadata": {},
   "source": [
    "Debt_consolidation has highest INTEREST RATE as its the riskest loan to lend"
   ]
  },
  {
   "cell_type": "code",
   "execution_count": 29,
   "metadata": {},
   "outputs": [
    {
     "data": {
      "text/plain": [
       "0.05318515766095631"
      ]
     },
     "execution_count": 29,
     "metadata": {},
     "output_type": "execute_result"
    }
   ],
   "source": [
    "#IMPACT OF ANNUAL INCOME ON INT_RATE\n",
    "loan['annual_inc'].corr(loan['int_rate'])\n"
   ]
  },
  {
   "cell_type": "markdown",
   "metadata": {},
   "source": [
    "annual_inc does not impact the int_rate"
   ]
  },
  {
   "cell_type": "code",
   "execution_count": 30,
   "metadata": {},
   "outputs": [
    {
     "data": {
      "text/plain": [
       "0.010394875975481659"
      ]
     },
     "execution_count": 30,
     "metadata": {},
     "output_type": "execute_result"
    }
   ],
   "source": [
    "#IMPACT OF OPEN ACCOUNT ON INT_RATE\n",
    "loan['open_acc'].corr(loan['int_rate'])\n"
   ]
  },
  {
   "cell_type": "markdown",
   "metadata": {},
   "source": [
    "open_acc does not impact the int_rate"
   ]
  },
  {
   "cell_type": "code",
   "execution_count": 35,
   "metadata": {},
   "outputs": [
    {
     "data": {
      "text/plain": [
       "0.09709996251900718"
      ]
     },
     "execution_count": 35,
     "metadata": {},
     "output_type": "execute_result"
    }
   ],
   "source": [
    "loan['revol_bal'].corr(loan['int_rate'])"
   ]
  },
  {
   "cell_type": "markdown",
   "metadata": {},
   "source": [
    "revol_bal does not impact the int_rate"
   ]
  },
  {
   "cell_type": "code",
   "execution_count": 36,
   "metadata": {},
   "outputs": [
    {
     "data": {
      "text/plain": [
       "-0.05561262681280067"
      ]
     },
     "execution_count": 36,
     "metadata": {},
     "output_type": "execute_result"
    }
   ],
   "source": [
    "loan['mths_since_last_delinq'].corr(loan['int_rate'])"
   ]
  },
  {
   "cell_type": "markdown",
   "metadata": {},
   "source": [
    "mths_since_last_delinq does not impact the int_rate"
   ]
  },
  {
   "cell_type": "code",
   "execution_count": 37,
   "metadata": {},
   "outputs": [
    {
     "data": {
      "text/plain": [
       "0.4671679509699442"
      ]
     },
     "execution_count": 37,
     "metadata": {},
     "output_type": "execute_result"
    }
   ],
   "source": [
    "loan['revol_util'].corr(loan['int_rate'])"
   ]
  },
  {
   "cell_type": "markdown",
   "metadata": {},
   "source": [
    "Higher the revol_util,higher would be the intrest_rate"
   ]
  },
  {
   "cell_type": "code",
   "execution_count": 38,
   "metadata": {},
   "outputs": [
    {
     "data": {
      "text/html": [
       "<div>\n",
       "<style scoped>\n",
       "    .dataframe tbody tr th:only-of-type {\n",
       "        vertical-align: middle;\n",
       "    }\n",
       "\n",
       "    .dataframe tbody tr th {\n",
       "        vertical-align: top;\n",
       "    }\n",
       "\n",
       "    .dataframe thead th {\n",
       "        text-align: right;\n",
       "    }\n",
       "</style>\n",
       "<table border=\"1\" class=\"dataframe\">\n",
       "  <thead>\n",
       "    <tr style=\"text-align: right;\">\n",
       "      <th></th>\n",
       "      <th>median</th>\n",
       "    </tr>\n",
       "    <tr>\n",
       "      <th>issue_d_month</th>\n",
       "      <th></th>\n",
       "    </tr>\n",
       "  </thead>\n",
       "  <tbody>\n",
       "    <tr>\n",
       "      <th>07</th>\n",
       "      <td>10.28</td>\n",
       "    </tr>\n",
       "    <tr>\n",
       "      <th>08</th>\n",
       "      <td>11.03</td>\n",
       "    </tr>\n",
       "    <tr>\n",
       "      <th>09</th>\n",
       "      <td>12.21</td>\n",
       "    </tr>\n",
       "    <tr>\n",
       "      <th>10</th>\n",
       "      <td>11.49</td>\n",
       "    </tr>\n",
       "    <tr>\n",
       "      <th>11</th>\n",
       "      <td>11.71</td>\n",
       "    </tr>\n",
       "  </tbody>\n",
       "</table>\n",
       "</div>"
      ],
      "text/plain": [
       "               median\n",
       "issue_d_month        \n",
       "07              10.28\n",
       "08              11.03\n",
       "09              12.21\n",
       "10              11.49\n",
       "11              11.71"
      ]
     },
     "execution_count": 38,
     "metadata": {},
     "output_type": "execute_result"
    }
   ],
   "source": [
    "#IMPACT OF issue_d_month LENGTH ON INT_RATE\n",
    "loan.groupby(['issue_d_month'])['int_rate'].agg(['median'])"
   ]
  },
  {
   "cell_type": "markdown",
   "metadata": {},
   "source": [
    "issue_d_month does not impact the int_rate"
   ]
  },
  {
   "cell_type": "code",
   "execution_count": 49,
   "metadata": {},
   "outputs": [
    {
     "name": "stdout",
     "output_type": "stream",
     "text": [
      "term  loan_status   36 months   60 months\n",
      "0     Charged Off   57.348498   42.651502\n",
      "1         Current    0.000000  100.000000\n",
      "2      Fully Paid   78.509863   21.490137\n"
     ]
    }
   ],
   "source": [
    "################################ LOAN STATUS & TERM ###########################\n",
    "\n",
    "temp = pd.crosstab(loan['loan_status'],loan['term']).apply(lambda r: r/r.sum(), axis=1)*100\n",
    "temp.reset_index(inplace=True)\n",
    "print(temp)\n"
   ]
  },
  {
   "cell_type": "code",
   "execution_count": 50,
   "metadata": {},
   "outputs": [
    {
     "data": {
      "text/plain": [
       "<matplotlib.axes._subplots.AxesSubplot at 0x20078b28b00>"
      ]
     },
     "execution_count": 50,
     "metadata": {},
     "output_type": "execute_result"
    },
    {
     "data": {
      "image/png": "[encoded data removed]",
      "text/plain": [
       "<Figure size 432x288 with 1 Axes>"
      ]
     },
     "metadata": {},
     "output_type": "display_data"
    }
   ],
   "source": [
    "temp.plot(x=\"loan_status\", y=[' 36 months', ' 60 months'], kind=\"bar\")\n",
    "#sns.set(style=\"whitegrid\")\n",
    "#ax = sns.catplot(x=\"loan_status\", y=[' 36 months', ' 60 months'], data=temp)"
   ]
  },
  {
   "cell_type": "markdown",
   "metadata": {},
   "source": [
    "Customers who have taken lower tenure(36 months) are likely to repay the loan"
   ]
  },
  {
   "cell_type": "code",
   "execution_count": 53,
   "metadata": {},
   "outputs": [
    {
     "name": "stdout",
     "output_type": "stream",
     "text": [
      "   loan_status       mean    dti\n",
      "0  Charged Off  14.000624  14.29\n",
      "1      Current  14.750009  15.05\n",
      "2   Fully Paid  13.148421  13.20\n"
     ]
    }
   ],
   "source": [
    "\n",
    "################################ LOAN STATUS & DTI ############################\n",
    "temp=loan.groupby('loan_status')['dti'].agg(['mean','median'])\n",
    "temp.rename(columns ={'median':'dti'}, inplace= True)\n",
    "temp.reset_index(inplace=True)\n",
    "print(temp)\n"
   ]
  },
  {
   "cell_type": "code",
   "execution_count": 54,
   "metadata": {
    "scrolled": true
   },
   "outputs": [
    {
     "data": {
      "image/png": "[encoded data removed]",
      "text/plain": [
       "<Figure size 432x288 with 1 Axes>"
      ]
     },
     "metadata": {},
     "output_type": "display_data"
    }
   ],
   "source": [
    "sns.set(style=\"whitegrid\")\n",
    "ax = sns.barplot(x=\"loan_status\", y=\"dti\", data=temp)"
   ]
  },
  {
   "cell_type": "markdown",
   "metadata": {},
   "source": [
    "Fully-Paid customers have low dti as compared to deliquent customer.Therefore,customers with low dti are good for business"
   ]
  },
  {
   "cell_type": "code",
   "execution_count": 58,
   "metadata": {},
   "outputs": [
    {
     "name": "stdout",
     "output_type": "stream",
     "text": [
      "home_ownership  loan_status   MORTGAGE      NONE     OTHER       OWN  \\\n",
      "0               Charged Off  41.354185  0.000000  0.319886  7.872756   \n",
      "1                   Current  55.964912  0.000000  0.000000  7.280702   \n",
      "2                Fully Paid  44.594841  0.009105  0.242792  7.684370   \n",
      "\n",
      "home_ownership       RENT  \n",
      "0               50.453172  \n",
      "1               36.754386  \n",
      "2               47.468892  \n",
      "Index(['loan_status', 'MORTGAGE', 'NONE', 'OTHER', 'OWN', 'RENT'], dtype='object', name='home_ownership')\n"
     ]
    }
   ],
   "source": [
    "temp = pd.crosstab(loan['loan_status'],loan['home_ownership']).apply(lambda r: r/r.sum(), axis=1)*100\n",
    "temp.reset_index(inplace=True)\n",
    "print(temp)\n",
    "\n",
    "print(temp.columns)"
   ]
  },
  {
   "cell_type": "code",
   "execution_count": 59,
   "metadata": {},
   "outputs": [
    {
     "data": {
      "text/plain": [
       "<matplotlib.axes._subplots.AxesSubplot at 0x20079d60a20>"
      ]
     },
     "execution_count": 59,
     "metadata": {},
     "output_type": "execute_result"
    },
    {
     "data": {
      "image/png": "[encoded data removed]",
      "text/plain": [
       "<Figure size 432x288 with 1 Axes>"
      ]
     },
     "metadata": {},
     "output_type": "display_data"
    }
   ],
   "source": [
    "temp.plot(x=\"loan_status\", y=['MORTGAGE', 'NONE', 'OTHER', 'OWN', 'RENT'], kind=\"bar\")"
   ]
  },
  {
   "cell_type": "markdown",
   "metadata": {},
   "source": [
    "Customers with Rented accomodation are likely to default more followed by customer who have mortagegd the property.\n",
    "\n",
    "Customers with owned house are least likely to default"
   ]
  },
  {
   "cell_type": "code",
   "execution_count": 63,
   "metadata": {},
   "outputs": [
    {
     "name": "stdout",
     "output_type": "stream",
     "text": [
      "grade  loan_status          A          B          C          D          E  \\\n",
      "0      Charged Off  10.698418  25.324329  23.938155  19.868491  12.706593   \n",
      "1          Current   3.508772  30.263158  23.157895  19.473684  15.701754   \n",
      "2       Fully Paid  28.658574  31.107739  19.687405  12.039454   5.911988   \n",
      "\n",
      "grade         F         G  \n",
      "0      5.669095  1.794917  \n",
      "1      6.403509  1.491228  \n",
      "2      1.993930  0.600910  \n"
     ]
    }
   ],
   "source": [
    "tab_loan_status_grade = pd.crosstab(loan['loan_status'],loan['grade']).apply(lambda r: r/r.sum(), axis=1)*100\n",
    "tab_loan_status_grade.reset_index(inplace=True)\n",
    "print(tab_loan_status_grade)\n"
   ]
  },
  {
   "cell_type": "code",
   "execution_count": 65,
   "metadata": {},
   "outputs": [
    {
     "data": {
      "text/plain": [
       "<matplotlib.axes._subplots.AxesSubplot at 0x20079bb1080>"
      ]
     },
     "execution_count": 65,
     "metadata": {},
     "output_type": "execute_result"
    },
    {
     "data": {
      "image/png": "[encoded data removed]",
      "text/plain": [
       "<Figure size 432x288 with 1 Axes>"
      ]
     },
     "metadata": {},
     "output_type": "display_data"
    }
   ],
   "source": [
    "tab_loan_status_grade.plot(x=\"loan_status\", y=['A','B','C','D','E','F','G'], kind=\"bar\")"
   ]
  },
  {
   "cell_type": "markdown",
   "metadata": {},
   "source": [
    "Grade B,C and D have high chances to default"
   ]
  },
  {
   "cell_type": "code",
   "execution_count": 66,
   "metadata": {},
   "outputs": [
    {
     "data": {
      "text/plain": [
       "debt_consolidation    46.934562\n",
       "credit_card           12.916383\n",
       "other                 10.053629\n",
       "home_improvement       7.493013\n",
       "major_purchase         5.506458\n",
       "small_business         4.602563\n",
       "car                    3.900093\n",
       "wedding                2.384369\n",
       "medical                1.744845\n",
       "moving                 1.467885\n",
       "house                  0.959287\n",
       "vacation               0.959287\n",
       "educational            0.818289\n",
       "renewable_energy       0.259335\n",
       "Name: purpose, dtype: float64"
      ]
     },
     "execution_count": 66,
     "metadata": {},
     "output_type": "execute_result"
    }
   ],
   "source": [
    "#PURPOSE AND LOAN STATUS\n",
    "loan['purpose'].value_counts()/len(loan)*100"
   ]
  },
  {
   "cell_type": "markdown",
   "metadata": {},
   "source": [
    "Major loans where used to consolidate the debt consolidation"
   ]
  },
  {
   "cell_type": "code",
   "execution_count": 68,
   "metadata": {},
   "outputs": [
    {
     "data": {
      "text/html": [
       "<div>\n",
       "<style scoped>\n",
       "    .dataframe tbody tr th:only-of-type {\n",
       "        vertical-align: middle;\n",
       "    }\n",
       "\n",
       "    .dataframe tbody tr th {\n",
       "        vertical-align: top;\n",
       "    }\n",
       "\n",
       "    .dataframe thead th {\n",
       "        text-align: right;\n",
       "    }\n",
       "</style>\n",
       "<table border=\"1\" class=\"dataframe\">\n",
       "  <thead>\n",
       "    <tr style=\"text-align: right;\">\n",
       "      <th>purpose</th>\n",
       "      <th>car</th>\n",
       "      <th>credit_card</th>\n",
       "      <th>debt_consolidation</th>\n",
       "      <th>educational</th>\n",
       "      <th>home_improvement</th>\n",
       "      <th>house</th>\n",
       "      <th>major_purchase</th>\n",
       "      <th>medical</th>\n",
       "      <th>moving</th>\n",
       "      <th>other</th>\n",
       "      <th>renewable_energy</th>\n",
       "      <th>small_business</th>\n",
       "      <th>vacation</th>\n",
       "      <th>wedding</th>\n",
       "    </tr>\n",
       "    <tr>\n",
       "      <th>loan_status</th>\n",
       "      <th></th>\n",
       "      <th></th>\n",
       "      <th></th>\n",
       "      <th></th>\n",
       "      <th></th>\n",
       "      <th></th>\n",
       "      <th></th>\n",
       "      <th></th>\n",
       "      <th></th>\n",
       "      <th></th>\n",
       "      <th></th>\n",
       "      <th></th>\n",
       "      <th></th>\n",
       "      <th></th>\n",
       "    </tr>\n",
       "  </thead>\n",
       "  <tbody>\n",
       "    <tr>\n",
       "      <th>Charged Off</th>\n",
       "      <td>2.843433</td>\n",
       "      <td>9.632131</td>\n",
       "      <td>49.173627</td>\n",
       "      <td>0.995202</td>\n",
       "      <td>6.166696</td>\n",
       "      <td>1.048516</td>\n",
       "      <td>3.945264</td>\n",
       "      <td>1.883775</td>\n",
       "      <td>1.634974</td>\n",
       "      <td>11.249334</td>\n",
       "      <td>0.337658</td>\n",
       "      <td>8.441443</td>\n",
       "      <td>0.941887</td>\n",
       "      <td>1.706060</td>\n",
       "    </tr>\n",
       "    <tr>\n",
       "      <th>Current</th>\n",
       "      <td>4.385965</td>\n",
       "      <td>9.035088</td>\n",
       "      <td>51.403509</td>\n",
       "      <td>0.000000</td>\n",
       "      <td>8.859649</td>\n",
       "      <td>1.228070</td>\n",
       "      <td>3.245614</td>\n",
       "      <td>1.052632</td>\n",
       "      <td>0.614035</td>\n",
       "      <td>11.228070</td>\n",
       "      <td>0.087719</td>\n",
       "      <td>6.491228</td>\n",
       "      <td>0.526316</td>\n",
       "      <td>1.842105</td>\n",
       "    </tr>\n",
       "    <tr>\n",
       "      <th>Fully Paid</th>\n",
       "      <td>4.063733</td>\n",
       "      <td>13.611533</td>\n",
       "      <td>46.397572</td>\n",
       "      <td>0.816388</td>\n",
       "      <td>7.672231</td>\n",
       "      <td>0.934750</td>\n",
       "      <td>5.851290</td>\n",
       "      <td>1.745068</td>\n",
       "      <td>1.468892</td>\n",
       "      <td>9.808801</td>\n",
       "      <td>0.251897</td>\n",
       "      <td>3.881639</td>\n",
       "      <td>0.977238</td>\n",
       "      <td>2.518968</td>\n",
       "    </tr>\n",
       "  </tbody>\n",
       "</table>\n",
       "</div>"
      ],
      "text/plain": [
       "purpose           car  credit_card  debt_consolidation  educational  \\\n",
       "loan_status                                                           \n",
       "Charged Off  2.843433     9.632131           49.173627     0.995202   \n",
       "Current      4.385965     9.035088           51.403509     0.000000   \n",
       "Fully Paid   4.063733    13.611533           46.397572     0.816388   \n",
       "\n",
       "purpose      home_improvement     house  major_purchase   medical    moving  \\\n",
       "loan_status                                                                   \n",
       "Charged Off          6.166696  1.048516        3.945264  1.883775  1.634974   \n",
       "Current              8.859649  1.228070        3.245614  1.052632  0.614035   \n",
       "Fully Paid           7.672231  0.934750        5.851290  1.745068  1.468892   \n",
       "\n",
       "purpose          other  renewable_energy  small_business  vacation   wedding  \n",
       "loan_status                                                                   \n",
       "Charged Off  11.249334          0.337658        8.441443  0.941887  1.706060  \n",
       "Current      11.228070          0.087719        6.491228  0.526316  1.842105  \n",
       "Fully Paid    9.808801          0.251897        3.881639  0.977238  2.518968  "
      ]
     },
     "execution_count": 68,
     "metadata": {},
     "output_type": "execute_result"
    }
   ],
   "source": [
    "tab_loan_status_purpose = pd.crosstab(loan['loan_status'],loan['purpose']).apply(lambda r: r/r.sum(), axis=1)*100\n",
    "tab_loan_status_purpose.head(5)"
   ]
  },
  {
   "cell_type": "code",
   "execution_count": 69,
   "metadata": {},
   "outputs": [
    {
     "data": {
      "text/plain": [
       "Index(['debt_consolidation', 'credit_card', 'other', 'home_improvement',\n",
       "       'major_purchase', 'small_business', 'car', 'wedding', 'medical',\n",
       "       'moving', 'house', 'vacation', 'educational', 'renewable_energy'],\n",
       "      dtype='object')"
      ]
     },
     "execution_count": 69,
     "metadata": {},
     "output_type": "execute_result"
    }
   ],
   "source": [
    "##################### RELATIONSHIP BETWEEN  PURPOSE AND DEFAULT  ##########################\n",
    "loan['purpose'].value_counts().index \n",
    "\n",
    "list_purpose = loan['purpose'].value_counts().index"
   ]
  },
  {
   "cell_type": "code",
   "execution_count": 33,
   "metadata": {},
   "outputs": [
    {
     "data": {
      "text/html": [
       "<div>\n",
       "<style scoped>\n",
       "    .dataframe tbody tr th:only-of-type {\n",
       "        vertical-align: middle;\n",
       "    }\n",
       "\n",
       "    .dataframe tbody tr th {\n",
       "        vertical-align: top;\n",
       "    }\n",
       "\n",
       "    .dataframe thead th {\n",
       "        text-align: right;\n",
       "    }\n",
       "</style>\n",
       "<table border=\"1\" class=\"dataframe\">\n",
       "  <thead>\n",
       "    <tr style=\"text-align: right;\">\n",
       "      <th></th>\n",
       "      <th>debt_consolidation</th>\n",
       "      <th>credit_card</th>\n",
       "      <th>other</th>\n",
       "      <th>home_improvement</th>\n",
       "      <th>major_purchase</th>\n",
       "      <th>small_business</th>\n",
       "      <th>car</th>\n",
       "      <th>wedding</th>\n",
       "      <th>medical</th>\n",
       "      <th>moving</th>\n",
       "      <th>house</th>\n",
       "      <th>vacation</th>\n",
       "      <th>educational</th>\n",
       "      <th>renewable_energy</th>\n",
       "    </tr>\n",
       "  </thead>\n",
       "  <tbody>\n",
       "    <tr>\n",
       "      <th>Fully Paid</th>\n",
       "      <td>NaN</td>\n",
       "      <td>NaN</td>\n",
       "      <td>NaN</td>\n",
       "      <td>NaN</td>\n",
       "      <td>NaN</td>\n",
       "      <td>NaN</td>\n",
       "      <td>NaN</td>\n",
       "      <td>NaN</td>\n",
       "      <td>NaN</td>\n",
       "      <td>NaN</td>\n",
       "      <td>NaN</td>\n",
       "      <td>NaN</td>\n",
       "      <td>NaN</td>\n",
       "      <td>NaN</td>\n",
       "    </tr>\n",
       "    <tr>\n",
       "      <th>Charged Off</th>\n",
       "      <td>NaN</td>\n",
       "      <td>NaN</td>\n",
       "      <td>NaN</td>\n",
       "      <td>NaN</td>\n",
       "      <td>NaN</td>\n",
       "      <td>NaN</td>\n",
       "      <td>NaN</td>\n",
       "      <td>NaN</td>\n",
       "      <td>NaN</td>\n",
       "      <td>NaN</td>\n",
       "      <td>NaN</td>\n",
       "      <td>NaN</td>\n",
       "      <td>NaN</td>\n",
       "      <td>NaN</td>\n",
       "    </tr>\n",
       "    <tr>\n",
       "      <th>Current</th>\n",
       "      <td>NaN</td>\n",
       "      <td>NaN</td>\n",
       "      <td>NaN</td>\n",
       "      <td>NaN</td>\n",
       "      <td>NaN</td>\n",
       "      <td>NaN</td>\n",
       "      <td>NaN</td>\n",
       "      <td>NaN</td>\n",
       "      <td>NaN</td>\n",
       "      <td>NaN</td>\n",
       "      <td>NaN</td>\n",
       "      <td>NaN</td>\n",
       "      <td>NaN</td>\n",
       "      <td>NaN</td>\n",
       "    </tr>\n",
       "  </tbody>\n",
       "</table>\n",
       "</div>"
      ],
      "text/plain": [
       "            debt_consolidation credit_card other home_improvement  \\\n",
       "Fully Paid                 NaN         NaN   NaN              NaN   \n",
       "Charged Off                NaN         NaN   NaN              NaN   \n",
       "Current                    NaN         NaN   NaN              NaN   \n",
       "\n",
       "            major_purchase small_business  car wedding medical moving house  \\\n",
       "Fully Paid             NaN            NaN  NaN     NaN     NaN    NaN   NaN   \n",
       "Charged Off            NaN            NaN  NaN     NaN     NaN    NaN   NaN   \n",
       "Current                NaN            NaN  NaN     NaN     NaN    NaN   NaN   \n",
       "\n",
       "            vacation educational renewable_energy  \n",
       "Fully Paid       NaN         NaN              NaN  \n",
       "Charged Off      NaN         NaN              NaN  \n",
       "Current          NaN         NaN              NaN  "
      ]
     },
     "execution_count": 33,
     "metadata": {},
     "output_type": "execute_result"
    }
   ],
   "source": [
    "\n",
    "df_purpose = pd.DataFrame(index=['Fully Paid','Charged Off','Current'],columns = list_purpose)\n",
    "\n",
    "df_purpose.head(5)"
   ]
  },
  {
   "cell_type": "code",
   "execution_count": 70,
   "metadata": {},
   "outputs": [
    {
     "data": {
      "text/plain": [
       "\"\\nfor val in list_purpose:\\n    var_val = str('df_')+str(val)\\n    var_val = loan[loan['purpose'] == val]\\n    try:\\n        val1 = (var_val['loan_status'].value_counts()[0]*100)/len(var_val)\\n    except:\\n        val1 = 0\\n    try:\\n        val2 = (var_val['loan_status'].value_counts()[1]*100)/len(var_val)\\n    except:\\n       val2 = 0 \\n    try:  \\n       val3 = (var_val['loan_status'].value_counts()[2]*100)/len(var_val)\\n    except:\\n       val3 = 0\\n    df_purpose.loc['Fully Paid', val] = val1\\n    df_purpose.loc['Charged Off', val] = val2\\n    df_purpose.loc['Current', val] = val3\\n\\n#find the purpose which has maximum default\\ndf_purpose.idxmax(axis=1)[1] # small_business has maximum default that has 25% default\\ndf_purpose.idxmax(axis=1).index[1]\\ndf_purpose.loc[df_purpose.idxmax(axis=1).index[1],df_purpose.idxmax(axis=1)[1]]\\n\\n\""
      ]
     },
     "execution_count": 70,
     "metadata": {},
     "output_type": "execute_result"
    }
   ],
   "source": [
    "'''\n",
    "for val in list_purpose:\n",
    "    var_val = str('df_')+str(val)\n",
    "    var_val = loan[loan['purpose'] == val]\n",
    "    try:\n",
    "        val1 = (var_val['loan_status'].value_counts()[0]*100)/len(var_val)\n",
    "    except:\n",
    "        val1 = 0\n",
    "    try:\n",
    "        val2 = (var_val['loan_status'].value_counts()[1]*100)/len(var_val)\n",
    "    except:\n",
    "       val2 = 0 \n",
    "    try:  \n",
    "       val3 = (var_val['loan_status'].value_counts()[2]*100)/len(var_val)\n",
    "    except:\n",
    "       val3 = 0\n",
    "    df_purpose.loc['Fully Paid', val] = val1\n",
    "    df_purpose.loc['Charged Off', val] = val2\n",
    "    df_purpose.loc['Current', val] = val3\n",
    "\n",
    "#find the purpose which has maximum default\n",
    "df_purpose.idxmax(axis=1)[1] # small_business has maximum default that has 25% default\n",
    "df_purpose.idxmax(axis=1).index[1]\n",
    "df_purpose.loc[df_purpose.idxmax(axis=1).index[1],df_purpose.idxmax(axis=1)[1]]\n",
    "\n",
    "'''"
   ]
  },
  {
   "cell_type": "code",
   "execution_count": 113,
   "metadata": {},
   "outputs": [
    {
     "name": "stdout",
     "output_type": "stream",
     "text": [
      "   loan_status  debt_consolidation\n",
      "0   Fully Paid            0.820128\n",
      "1  Charged Off            0.148436\n",
      "2      Current            0.031436\n"
     ]
    },
    {
     "data": {
      "image/png": "[encoded data removed]",
      "text/plain": [
       "<Figure size 432x288 with 1 Axes>"
      ]
     },
     "metadata": {},
     "output_type": "display_data"
    }
   ],
   "source": [
    "df_debt_consolidation = loan[loan['purpose'] == 'debt_consolidation']\n",
    "temp = df_debt_consolidation['loan_status'].value_counts()/len(df_debt_consolidation)\n",
    "temp = temp.reset_index()\n",
    "temp.rename(columns={'index':'loan_status', 'loan_status':'debt_consolidation'}, inplace=True)\n",
    "print(temp)\n",
    "sns.set(style=\"whitegrid\")\n",
    "ax = sns.barplot(y=\"debt_consolidation\", x=\"loan_status\", data=temp)"
   ]
  },
  {
   "cell_type": "code",
   "execution_count": 114,
   "metadata": {},
   "outputs": [
    {
     "name": "stdout",
     "output_type": "stream",
     "text": [
      "   loan_status  credit_card\n",
      "0   Fully Paid     0.874269\n",
      "1  Charged Off     0.105653\n",
      "2      Current     0.020078\n"
     ]
    },
    {
     "data": {
      "image/png": "[encoded data removed]",
      "text/plain": [
       "<Figure size 432x288 with 1 Axes>"
      ]
     },
     "metadata": {},
     "output_type": "display_data"
    }
   ],
   "source": [
    "df_credit_card = loan[loan['purpose'] == 'credit_card']\n",
    "temp = df_credit_card['loan_status'].value_counts()/len(df_credit_card)\n",
    "temp = temp.reset_index()\n",
    "temp.rename(columns={'index':'loan_status', 'loan_status':'credit_card'}, inplace=True)\n",
    "print(temp)\n",
    "sns.set(style=\"whitegrid\")\n",
    "ax = sns.barplot(y=\"credit_card\", x=\"loan_status\", data=temp)"
   ]
  },
  {
   "cell_type": "code",
   "execution_count": 111,
   "metadata": {},
   "outputs": [
    {
     "name": "stdout",
     "output_type": "stream",
     "text": [
      "         index  loan_status\n",
      "0   Fully Paid     0.849462\n",
      "1  Charged Off     0.116599\n",
      "2      Current     0.033938\n"
     ]
    },
    {
     "data": {
      "image/png": "[encoded data removed]",
      "text/plain": [
       "<Figure size 432x288 with 1 Axes>"
      ]
     },
     "metadata": {},
     "output_type": "display_data"
    }
   ],
   "source": [
    "df_home_improvement = loan[loan['purpose'] == 'home_improvement']\n",
    "temp=df_home_improvement['loan_status'].value_counts()/len(df_home_improvement)\n",
    "temp = temp.reset_index()\n",
    "print(temp)\n",
    "sns.set(style=\"whitegrid\")\n",
    "ax = sns.barplot(y=\"loan_status\", x=\"index\", data=temp)"
   ]
  },
  {
   "cell_type": "code",
   "execution_count": 86,
   "metadata": {},
   "outputs": [
    {
     "name": "stdout",
     "output_type": "stream",
     "text": [
      "         index  loan_status\n",
      "0   Fully Paid     0.881573\n",
      "1  Charged Off     0.101509\n",
      "2      Current     0.016918\n"
     ]
    },
    {
     "data": {
      "image/png": "[encoded data removed]",
      "text/plain": [
       "<Figure size 432x288 with 1 Axes>"
      ]
     },
     "metadata": {},
     "output_type": "display_data"
    }
   ],
   "source": [
    "df_major_purchase = loan[loan['purpose'] == 'major_purchase']\n",
    "temp= df_major_purchase['loan_status'].value_counts()/len(df_major_purchase)\n",
    "temp = temp.reset_index()\n",
    "print(temp)\n",
    "sns.set(style=\"whitegrid\")\n",
    "ax = sns.barplot(y=\"loan_status\", x=\"index\", data=temp)"
   ]
  },
  {
   "cell_type": "code",
   "execution_count": 115,
   "metadata": {},
   "outputs": [
    {
     "name": "stdout",
     "output_type": "stream",
     "text": [
      "   loan_status  small_business\n",
      "0   Fully Paid        0.699672\n",
      "1  Charged Off        0.259847\n",
      "2      Current        0.040481\n"
     ]
    },
    {
     "data": {
      "image/png": "[encoded data removed]",
      "text/plain": [
       "<Figure size 432x288 with 1 Axes>"
      ]
     },
     "metadata": {},
     "output_type": "display_data"
    }
   ],
   "source": [
    "df_small_business = loan[loan['purpose'] == 'small_business']\n",
    "temp=df_small_business['loan_status'].value_counts()/len(df_small_business)\n",
    "temp = temp.reset_index()\n",
    "temp.rename(columns={'index':'loan_status', 'loan_status':'small_business'}, inplace=True)\n",
    "print(temp)\n",
    "sns.set(style=\"whitegrid\")\n",
    "ax = sns.barplot(y=\"small_business\", x=\"loan_status\", data=temp)"
   ]
  },
  {
   "cell_type": "markdown",
   "metadata": {},
   "source": [
    "RESULT : small_business loans have highest probablity to turn in NPAs.In this category, ~26% customers have defaulted"
   ]
  },
  {
   "cell_type": "code",
   "execution_count": 88,
   "metadata": {},
   "outputs": [
    {
     "name": "stdout",
     "output_type": "stream",
     "text": [
      "         index  loan_status\n",
      "0   Fully Paid     0.864429\n",
      "1  Charged Off     0.103292\n",
      "2      Current     0.032279\n"
     ]
    },
    {
     "data": {
      "image/png": "[encoded data removed]",
      "text/plain": [
       "<Figure size 432x288 with 1 Axes>"
      ]
     },
     "metadata": {},
     "output_type": "display_data"
    }
   ],
   "source": [
    "df_car = loan[loan['purpose'] == 'car']\n",
    "temp=df_car['loan_status'].value_counts()/len(df_car)\n",
    "temp = temp.reset_index()\n",
    "print(temp)\n",
    "sns.set(style=\"whitegrid\")\n",
    "ax = sns.barplot(y=\"loan_status\", x=\"index\", data=temp)"
   ]
  },
  {
   "cell_type": "code",
   "execution_count": 91,
   "metadata": {},
   "outputs": [
    {
     "name": "stdout",
     "output_type": "stream",
     "text": [
      "         index  loan_status\n",
      "0   Fully Paid     0.876452\n",
      "1  Charged Off     0.101373\n",
      "2      Current     0.022175\n"
     ]
    },
    {
     "data": {
      "image/png": "[encoded data removed]",
      "text/plain": [
       "<Figure size 432x288 with 1 Axes>"
      ]
     },
     "metadata": {},
     "output_type": "display_data"
    }
   ],
   "source": [
    "df_wedding = loan[loan['purpose'] == 'wedding']\n",
    "temp=df_wedding['loan_status'].value_counts()/len(df_wedding)\n",
    "temp = temp.reset_index()\n",
    "print(temp)\n",
    "sns.set(style=\"whitegrid\")\n",
    "ax = sns.barplot(y=\"loan_status\", x=\"index\", data=temp)"
   ]
  },
  {
   "cell_type": "code",
   "execution_count": 93,
   "metadata": {},
   "outputs": [
    {
     "name": "stdout",
     "output_type": "stream",
     "text": [
      "         index  loan_status\n",
      "0   Fully Paid     0.829726\n",
      "1  Charged Off     0.152958\n",
      "2      Current     0.017316\n"
     ]
    },
    {
     "data": {
      "image/png": "[encoded data removed]",
      "text/plain": [
       "<Figure size 432x288 with 1 Axes>"
      ]
     },
     "metadata": {},
     "output_type": "display_data"
    }
   ],
   "source": [
    "df_medical = loan[loan['purpose'] == 'medical']\n",
    "temp=df_medical['loan_status'].value_counts()/len(df_medical)\n",
    "temp = temp.reset_index()\n",
    "print(temp)\n",
    "sns.set(style=\"whitegrid\")\n",
    "ax = sns.barplot(y=\"loan_status\", x=\"index\", data=temp)"
   ]
  },
  {
   "cell_type": "code",
   "execution_count": 95,
   "metadata": {},
   "outputs": [
    {
     "name": "stdout",
     "output_type": "stream",
     "text": [
      "         index  loan_status\n",
      "0   Fully Paid     0.830189\n",
      "1  Charged Off     0.157804\n",
      "2      Current     0.012007\n"
     ]
    },
    {
     "data": {
      "image/png": "[encoded data removed]",
      "text/plain": [
       "<Figure size 432x288 with 1 Axes>"
      ]
     },
     "metadata": {},
     "output_type": "display_data"
    }
   ],
   "source": [
    "df_moving = loan[loan['purpose'] == 'moving']\n",
    "temp=df_moving['loan_status'].value_counts()/len(df_moving)\n",
    "temp = temp.reset_index()\n",
    "print(temp)\n",
    "sns.set(style=\"whitegrid\")\n",
    "ax = sns.barplot(y=\"loan_status\", x=\"index\", data=temp)"
   ]
  },
  {
   "cell_type": "code",
   "execution_count": 96,
   "metadata": {},
   "outputs": [
    {
     "name": "stdout",
     "output_type": "stream",
     "text": [
      "         index  loan_status\n",
      "0   Fully Paid     0.845144\n",
      "1  Charged Off     0.139108\n",
      "2      Current     0.015748\n"
     ]
    },
    {
     "data": {
      "image/png": "[encoded data removed]",
      "text/plain": [
       "<Figure size 432x288 with 1 Axes>"
      ]
     },
     "metadata": {},
     "output_type": "display_data"
    }
   ],
   "source": [
    "df_vacation = loan[loan['purpose'] == 'vacation']\n",
    "temp=df_vacation['loan_status'].value_counts()/len(df_vacation)\n",
    "temp = temp.reset_index()\n",
    "print(temp)\n",
    "sns.set(style=\"whitegrid\")\n",
    "ax = sns.barplot(y=\"loan_status\", x=\"index\", data=temp)"
   ]
  },
  {
   "cell_type": "code",
   "execution_count": 97,
   "metadata": {},
   "outputs": [
    {
     "name": "stdout",
     "output_type": "stream",
     "text": [
      "         index  loan_status\n",
      "0   Fully Paid     0.808399\n",
      "1  Charged Off     0.154856\n",
      "2      Current     0.036745\n"
     ]
    },
    {
     "data": {
      "image/png": "[encoded data removed]",
      "text/plain": [
       "<Figure size 432x288 with 1 Axes>"
      ]
     },
     "metadata": {},
     "output_type": "display_data"
    }
   ],
   "source": [
    "df_house = loan[loan['purpose'] == 'house']\n",
    "temp=df_house['loan_status'].value_counts()/len(df_house)\n",
    "temp = temp.reset_index()\n",
    "print(temp)\n",
    "sns.set(style=\"whitegrid\")\n",
    "ax = sns.barplot(y=\"loan_status\", x=\"index\", data=temp)"
   ]
  },
  {
   "cell_type": "code",
   "execution_count": 98,
   "metadata": {},
   "outputs": [
    {
     "name": "stdout",
     "output_type": "stream",
     "text": [
      "         index  loan_status\n",
      "0   Fully Paid     0.827692\n",
      "1  Charged Off     0.172308\n"
     ]
    },
    {
     "data": {
      "image/png": "[encoded data removed]",
      "text/plain": [
       "<Figure size 432x288 with 1 Axes>"
      ]
     },
     "metadata": {},
     "output_type": "display_data"
    }
   ],
   "source": [
    "df_educational = loan[loan['purpose'] == 'educational']\n",
    "temp=df_educational['loan_status'].value_counts()/len(df_educational)\n",
    "temp = temp.reset_index()\n",
    "print(temp)\n",
    "sns.set(style=\"whitegrid\")\n",
    "ax = sns.barplot(y=\"loan_status\", x=\"index\", data=temp)"
   ]
  },
  {
   "cell_type": "code",
   "execution_count": 99,
   "metadata": {},
   "outputs": [
    {
     "name": "stdout",
     "output_type": "stream",
     "text": [
      "         index  loan_status\n",
      "0   Fully Paid     0.805825\n",
      "1  Charged Off     0.184466\n",
      "2      Current     0.009709\n"
     ]
    },
    {
     "data": {
      "image/png": "[encoded data removed]",
      "text/plain": [
       "<Figure size 432x288 with 1 Axes>"
      ]
     },
     "metadata": {},
     "output_type": "display_data"
    }
   ],
   "source": [
    "df_renewable_energy = loan[loan['purpose'] == 'renewable_energy']\n",
    "temp=df_renewable_energy['loan_status'].value_counts()/len(df_renewable_energy)\n",
    "temp = temp.reset_index()\n",
    "print(temp)\n",
    "sns.set(style=\"whitegrid\")\n",
    "ax = sns.barplot(y=\"loan_status\", x=\"index\", data=temp)"
   ]
  },
  {
   "cell_type": "code",
   "execution_count": 100,
   "metadata": {},
   "outputs": [
    {
     "name": "stdout",
     "output_type": "stream",
     "text": [
      "         index  loan_status\n",
      "0   Fully Paid     0.809416\n",
      "1  Charged Off     0.158527\n",
      "2      Current     0.032056\n"
     ]
    },
    {
     "data": {
      "image/png": "[encoded data removed]",
      "text/plain": [
       "<Figure size 432x288 with 1 Axes>"
      ]
     },
     "metadata": {},
     "output_type": "display_data"
    }
   ],
   "source": [
    "df_other = loan[loan['purpose'] == 'other']\n",
    "temp=df_other['loan_status'].value_counts()/len(df_other)\n",
    "temp = temp.reset_index()\n",
    "print(temp)\n",
    "sns.set(style=\"whitegrid\")\n",
    "ax = sns.barplot(y=\"loan_status\", x=\"index\", data=temp)"
   ]
  },
  {
   "cell_type": "code",
   "execution_count": 116,
   "metadata": {},
   "outputs": [
    {
     "name": "stdout",
     "output_type": "stream",
     "text": [
      "   loan_status       mean  revol_util_median\n",
      "0  Charged Off  55.572110              58.40\n",
      "1      Current  53.204482              54.95\n",
      "2   Fully Paid  47.531801              47.60\n"
     ]
    },
    {
     "data": {
      "image/png": "[encoded data removed]",
      "text/plain": [
       "<Figure size 432x288 with 1 Axes>"
      ]
     },
     "metadata": {},
     "output_type": "display_data"
    }
   ],
   "source": [
    "#################### IMPACT OF revol_util on loan_status ######################\n",
    "temp = loan.groupby('loan_status')['revol_util'].agg(['mean','median'])\n",
    "temp = temp.reset_index()\n",
    "temp.rename(columns={'median':'revol_util_median'}, inplace=True)\n",
    "print(temp)\n",
    "sns.set(style=\"whitegrid\")\n",
    "ax = sns.barplot(y=\"revol_util_median\", x=\"loan_status\", data=temp)\n"
   ]
  },
  {
   "cell_type": "markdown",
   "metadata": {},
   "source": [
    "RESULT : Customers who have  high utilization of  the revolving credit are more likely to default"
   ]
  },
  {
   "cell_type": "code",
   "execution_count": 107,
   "metadata": {},
   "outputs": [
    {
     "name": "stdout",
     "output_type": "stream",
     "text": [
      "issue_d_month  loan_status        07        08         09         10  \\\n",
      "0              Charged Off  0.799716  4.389550  10.556247  26.390617   \n",
      "1                  Current  0.000000  0.000000   0.000000   0.000000   \n",
      "2               Fully Paid  0.625190  3.990895  12.509863  30.491654   \n",
      "\n",
      "issue_d_month          11  \n",
      "0               57.863871  \n",
      "1              100.000000  \n",
      "2               52.382398  \n"
     ]
    }
   ],
   "source": [
    "tab_loan_status_issue_d_month = pd.crosstab(loan['loan_status'],loan['issue_d_month']).apply(lambda r: r/r.sum(),axis=1)*100\n",
    "tab_loan_status_issue_d_month.reset_index(inplace=True)\n",
    "print(tab_loan_status_issue_d_month)\n"
   ]
  },
  {
   "cell_type": "code",
   "execution_count": 108,
   "metadata": {},
   "outputs": [
    {
     "data": {
      "text/plain": [
       "<matplotlib.axes._subplots.AxesSubplot at 0x200789d1710>"
      ]
     },
     "execution_count": 108,
     "metadata": {},
     "output_type": "execute_result"
    },
    {
     "data": {
      "image/png": "[encoded data removed]",
      "text/plain": [
       "<Figure size 432x288 with 1 Axes>"
      ]
     },
     "metadata": {},
     "output_type": "display_data"
    }
   ],
   "source": [
    "tab_loan_status_issue_d_month.plot(x=\"loan_status\", y=['07','08','09','10','11'], kind=\"bar\")"
   ]
  },
  {
   "cell_type": "markdown",
   "metadata": {},
   "source": [
    "RESULT : laon approved in third quarter has the highest default rate"
   ]
  },
  {
   "cell_type": "code",
   "execution_count": null,
   "metadata": {},
   "outputs": [],
   "source": []
  }
 ],
 "metadata": {
  "kernelspec": {
   "display_name": "Python 3",
   "language": "python",
   "name": "python3"
  },
  "language_info": {
   "codemirror_mode": {
    "name": "ipython",
    "version": 3
   },
   "file_extension": ".py",
   "mimetype": "text/x-python",
   "name": "python",
   "nbconvert_exporter": "python",
   "pygments_lexer": "ipython3",
   "version": "3.6.5"
  }
 },
 "nbformat": 4,
 "nbformat_minor": 4
}
