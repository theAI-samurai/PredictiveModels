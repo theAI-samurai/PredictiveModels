{
 "cells": [
  {
   "cell_type": "markdown",
   "metadata": {},
   "source": [
    "# Assignment 1: Spark Funds\n",
    "\n",
    "## Objective\n",
    "\n",
    "#### Spark Funds has two minor constraints for investments:\n",
    "\n",
    "    1. It wants to invest between 5 to 15 million USD per round of investment\n",
    "    2. It wants to invest only in English-speaking countries because of the ease of communication with the companies it would invest in\n",
    "\n",
    "#### Analysis\n",
    "    1. Identify the best Investment type from venture, seed, angel, private equity etc\n",
    "    \n",
    "    2. Identifying best countries for investing (English Speaking)\n",
    "    \n",
    "    3. understanding the distribution among 8 main sectors"
   ]
  },
  {
   "cell_type": "markdown",
   "metadata": {},
   "source": [
    "## Checkpoints 1 : Data Cleaning"
   ]
  },
  {
   "cell_type": "code",
   "execution_count": 2,
   "metadata": {},
   "outputs": [],
   "source": [
    "import pandas as pd\n",
    "\n",
    "# reading companies text file as dataframe\n",
    "companies = pd.read_csv(r'companies.txt',sep=\"\\t\", engine='python')\n",
    "# changing uniqueID coloumn 'permalink' to upper case for further processing\n",
    "companies['permalink'] = list(map(lambda s: s.upper(),companies['permalink']))\n",
    "\n",
    "# reading rounds csv file as dataframe\n",
    "rounds2 = pd.read_csv(r'rounds2.csv', sep=',', engine='python')\n",
    "# changing uniqueID coloumn 'company_permalink' to upper case for further processing\n",
    "rounds2['company_permalink'] = list(map(lambda s: s.upper(),rounds2['company_permalink']))\n"
   ]
  },
  {
   "cell_type": "code",
   "execution_count": 3,
   "metadata": {},
   "outputs": [
    {
     "name": "stdout",
     "output_type": "stream",
     "text": [
      "Unique Companies in companies dataframe : 66368\n",
      "Unique Companies in rounds dataframe : 66368\n",
      "N\n"
     ]
    }
   ],
   "source": [
    "# unique company values in companies dataframe\n",
    "unique_companies = list(set(companies['permalink']))\n",
    "print('Unique Companies in companies dataframe :', len(unique_companies))\n",
    "\n",
    "# unique company values in rounds2 dataframe \n",
    "unique_companies_rounds = list(set(rounds2['company_permalink']))\n",
    "print('Unique Companies in rounds dataframe :', len(unique_companies_rounds))\n",
    "\n",
    "\n",
    "# condition check for companies in rounds2 dataframe and not in companies dataframe\n",
    "if len(set(unique_companies_rounds).difference(set(unique_companies))) > 0:\n",
    "    print('Y')\n",
    "else:\n",
    "    print('N')"
   ]
  },
  {
   "cell_type": "code",
   "execution_count": 4,
   "metadata": {},
   "outputs": [
    {
     "name": "stdout",
     "output_type": "stream",
     "text": [
      "total records in master_frame 114949\n"
     ]
    }
   ],
   "source": [
    "# Merging dataframe 'rounds2' and 'companies'\n",
    "master_frame = rounds2.merge(companies, how='left',left_on='company_permalink', right_on='permalink',)\n",
    "master_frame['raised_amount_usd'].fillna(0, inplace=True)\n",
    "print('total records in master_frame', len(master_frame))\n"
   ]
  },
  {
   "cell_type": "markdown",
   "metadata": {},
   "source": [
    "## Checkpoint 2: Funding Analysis"
   ]
  },
  {
   "cell_type": "code",
   "execution_count": 5,
   "metadata": {},
   "outputs": [
    {
     "name": "stdout",
     "output_type": "stream",
     "text": [
      "                    raised_amount_usd\n",
      "funding_round_type                   \n",
      "angel                    7.645643e+05\n",
      "venture                  1.063405e+07\n",
      "seed                     5.566067e+05\n",
      "private_equity           6.211179e+07\n"
     ]
    }
   ],
   "source": [
    "# groupby frame on funding type and taking a mean of raised amout will give us the most representative value \n",
    "mean_funding_type= (master_frame.groupby(['funding_round_type']))['raised_amount_usd'].mean().to_frame()\n",
    "print(mean_funding_type.loc[['angel','venture', 'seed','private_equity']])\n"
   ]
  },
  {
   "cell_type": "markdown",
   "metadata": {},
   "source": [
    "## Checkpoint 3: country analysis"
   ]
  },
  {
   "cell_type": "code",
   "execution_count": 6,
   "metadata": {},
   "outputs": [
    {
     "name": "stdout",
     "output_type": "stream",
     "text": [
      "country_code\n",
      "USA    4.225108e+11\n",
      "CHN    3.983542e+10\n",
      "GBR    2.024563e+10\n",
      "IND    1.439186e+10\n",
      "CAN    9.583332e+09\n",
      "FRA    7.259537e+09\n",
      "ISR    6.907515e+09\n",
      "DEU    6.346960e+09\n",
      "JPN    3.363677e+09\n",
      "Name: raised_amount_usd, dtype: float64\n"
     ]
    }
   ],
   "source": [
    "# subsetting out master dataframe for ventur funding type only\n",
    "subset_master_frame = master_frame[master_frame['funding_round_type']=='venture'].reset_index(drop=True)\n",
    "order_countries = subset_master_frame.groupby(['country_code'])['raised_amount_usd'].sum().sort_values(ascending = False)\n",
    "# result for countries investimg in venture in decending order\n",
    "print(order_countries.head(9))    \n",
    "\n",
    "top9 = subset_master_frame[subset_master_frame['country_code'].isin(['USA','CHN','GBR','IND','CAN','FRA','ISR','DEU','JPN'])].reset_index(drop=True)\n",
    "\n",
    "#print(top9)"
   ]
  },
  {
   "cell_type": "markdown",
   "metadata": {},
   "source": [
    "Based on the link https://en.wikipedia.org/wiki/List_of_territorial_entities_where_English_is_an_official_language shared at the upgrad Assignment section for identifying the top 3 countries where English is an official language.\n",
    "\n",
    "We have taken the following english speaking countries from top9 dataframe for our work further :\n",
    "USA (united states of America)\n",
    "GBR (United Kingdom)\n",
    "CAN (Canada)\n"
   ]
  },
  {
   "cell_type": "markdown",
   "metadata": {},
   "source": [
    "## Checkpoint 4 : Sector Analysis 1"
   ]
  },
  {
   "cell_type": "code",
   "execution_count": 7,
   "metadata": {},
   "outputs": [],
   "source": [
    "# Reading the mapping file for analysis\n",
    "mapping  = pd.read_csv(r'mapping.csv', sep=',', engine='python')\n",
    "mapping.drop(['Blanks'], axis=1, inplace=True)\n",
    "# the following function converts the one hot encoding in mapping file to a derived frame from further analytics simpliity in this case.\n",
    "\n",
    "def mapping_conversion(df):\n",
    "    temp = {}\n",
    "    for i in range(len(df)):\n",
    "        tem = df.loc[i].to_frame().reset_index()\n",
    "        #cate_temp =[]\n",
    "        for j in range(len(tem)):\n",
    "            if tem.loc[j, i] == 1:\n",
    "                #cate_temp.append(tem.loc[j,'index'])\n",
    "                temp.update({df.loc[i,'category_list']: tem.loc[j,'index']})\n",
    "\n",
    "    z = pd.DataFrame(list(temp.items()), columns=['category_list', 'category'])\n",
    "    return z\n",
    "\n",
    "mapping = mapping_conversion(mapping)"
   ]
  },
  {
   "cell_type": "code",
   "execution_count": 8,
   "metadata": {},
   "outputs": [],
   "source": [
    "# primary sector extraction from top9 dataframe \n",
    "top9['category_list'] = top9['category_list'].str.split(\"|\").str[0]\n",
    "\n",
    "# merging the dataframes on the 'category_list'\n",
    "# Code for a merged data frame with each primary sector mapped to its main sector\n",
    "result = pd.merge(top9, mapping, how='left', on='category_list')\n"
   ]
  },
  {
   "cell_type": "code",
   "execution_count": 9,
   "metadata": {},
   "outputs": [],
   "source": [
    "#******* Total number of Investments (count) *************\n",
    "Country_USA_1 = result[result['country_code']=='USA']\n",
    "Country_GBR_2 = result[result['country_code']=='GBR']\n",
    "Country_CAN_3 = result[result['country_code']=='CAN']\n"
   ]
  },
  {
   "cell_type": "code",
   "execution_count": 10,
   "metadata": {},
   "outputs": [
    {
     "name": "stdout",
     "output_type": "stream",
     "text": [
      "Total investment recieved by USA:  422510842796.0\n",
      "Total investment recieved by GBR:  20245627416.0\n",
      "Total investment recieved by CAN:  9583332317.0\n",
      "\n",
      "Investment of USA in sectors  category\n",
      "Others                                     8693\n",
      "Cleantech / Semiconductors                 8113\n",
      "Social, Finance, Analytics, Advertising    5553\n",
      "News, Search and Messaging                 4562\n",
      "Health                                     3403\n",
      "Manufacturing                              2643\n",
      "Entertainment                              1888\n",
      "Automotive & Sports                         566\n",
      "Name: company_permalink, dtype: int64\n",
      "\n",
      "\n",
      "Investment of GBR in sectors  category\n",
      "Others                                     571\n",
      "Cleantech / Semiconductors                 456\n",
      "Social, Finance, Analytics, Advertising    359\n",
      "News, Search and Messaging                 265\n",
      "Entertainment                              157\n",
      "Manufacturing                              132\n",
      "Health                                     126\n",
      "Automotive & Sports                         54\n",
      "Name: company_permalink, dtype: int64\n",
      "\n",
      "\n",
      "Investment of CAN in sectors  category\n",
      "Cleantech / Semiconductors                 346\n",
      "Others                                     337\n",
      "Social, Finance, Analytics, Advertising    175\n",
      "News, Search and Messaging                 145\n",
      "Manufacturing                              113\n",
      "Health                                      65\n",
      "Entertainment                               58\n",
      "Automotive & Sports                         17\n",
      "Name: company_permalink, dtype: int64\n",
      "\n",
      " Total number of investment in top sector for USA  8693\n",
      "\n",
      " Total number of investment in top sector for GBR  571\n",
      "\n",
      " Total number of investment in top sector for CAN  346\n"
     ]
    },
    {
     "data": {
      "text/plain": [
       "company_permalink\n",
       "/ORGANIZATION/DESIRE2LEARN                           165000000.0\n",
       "/ORGANIZATION/BUILDDIRECT                            112214350.0\n",
       "/ORGANIZATION/TROPIC-NETWORKS                         86000000.0\n",
       "/ORGANIZATION/TERADICI                                82821087.0\n",
       "/ORGANIZATION/KOBO                                    78812455.0\n",
       "                                                        ...     \n",
       "/ORGANIZATION/PHOENIX-LABS                                   0.0\n",
       "/ORGANIZATION/ASIA-PACIFIC-MARINE-CONTAINER-LINES            0.0\n",
       "/ORGANIZATION/TENZING-MANAGED-IT-SERVICES                    0.0\n",
       "/ORGANIZATION/TALENTCLICK                                    0.0\n",
       "/ORGANIZATION/EXACTFLAT                                      0.0\n",
       "Name: raised_amount_usd, Length: 210, dtype: float64"
      ]
     },
     "execution_count": 10,
     "metadata": {},
     "output_type": "execute_result"
    }
   ],
   "source": [
    "Country_CAN_3['funded_at'].isnull().sum()\n",
    "\n",
    "############# Total amount of investment (USD)\n",
    "print('Total investment recieved by USA: ', Country_USA_1['raised_amount_usd'].sum())\n",
    "print('Total investment recieved by GBR: ',Country_GBR_2['raised_amount_usd'].sum())\n",
    "print('Total investment recieved by CAN: ',Country_CAN_3['raised_amount_usd'].sum())\n",
    "\n",
    "\n",
    "print('\\nInvestment of USA in sectors ',Country_USA_1.groupby(['category'])['company_permalink'].count().sort_values(ascending = False))\n",
    "print('\\n\\nInvestment of GBR in sectors ',Country_GBR_2.groupby(['category'])['company_permalink'].count().sort_values(ascending = False))\n",
    "print('\\n\\nInvestment of CAN in sectors ',Country_CAN_3.groupby(['category'])['company_permalink'].count().sort_values(ascending = False))\n",
    "\n",
    "############ Top Sector name (no. of investment-wise)\n",
    "print('\\n Total number of investment in top sector for USA ', len(Country_USA_1[Country_USA_1['category']=='Others']))\n",
    "print('\\n Total number of investment in top sector for GBR ', len(Country_GBR_2[Country_GBR_2['category']=='Others']))\n",
    "print('\\n Total number of investment in top sector for CAN ', len(Country_CAN_3[Country_CAN_3['category']=='Cleantech / Semiconductors']))\n",
    "\n",
    "########### Second Sector name (no. of investment-wise)\n",
    "len(Country_USA_1[Country_USA_1['category']=='Cleantech / Semiconductors'])\n",
    "len(Country_GBR_2[Country_GBR_2['category']=='Cleantech / Semiconductors'])\n",
    "len(Country_CAN_3[Country_CAN_3['category']=='Others'])\n",
    "\n",
    "############### Third Sector name (no. of investment-wise)\n",
    "len(Country_USA_1[Country_USA_1['category']=='Social, Finance, Analytics, Advertising'])\n",
    "len(Country_GBR_2[Country_GBR_2['category']=='Social, Finance, Analytics, Advertising'])\n",
    "len(Country_CAN_3[Country_CAN_3['category']=='Social, Finance, Analytics, Advertising'])\n",
    "\n",
    "###################For point 3 (top sector count-wise), which company received the highest investment?\n",
    "Country_USA_1[Country_USA_1['category']=='Others'].groupby(['company_permalink'])['raised_amount_usd'].sum().sort_values(ascending = False)\n",
    "Country_GBR_2[Country_GBR_2['category']=='Others'].groupby(['company_permalink'])['raised_amount_usd'].sum().sort_values(ascending = False)\n",
    "Country_CAN_3[Country_CAN_3['category']=='Cleantech / Semiconductors'].groupby(['company_permalink'])['raised_amount_usd'].sum().sort_values(ascending = False)\n",
    "\n",
    "#####################For point 4 (second best sector count-wise), which company received the highest investment?\n",
    "Country_USA_1[Country_USA_1['category']=='Cleantech / Semiconductors'].groupby(['company_permalink'])['raised_amount_usd'].sum().sort_values(ascending = False)\n",
    "Country_GBR_2[Country_GBR_2['category']=='Cleantech / Semiconductors'].groupby(['company_permalink'])['raised_amount_usd'].sum().sort_values(ascending = False)\n",
    "Country_CAN_3[Country_CAN_3['category']=='Others'].groupby(['company_permalink'])['raised_amount_usd'].sum().sort_values(ascending = False)\n",
    "\n"
   ]
  },
  {
   "cell_type": "markdown",
   "metadata": {},
   "source": [
    "## Checkpoints 6: Plots"
   ]
  },
  {
   "cell_type": "code",
   "execution_count": 11,
   "metadata": {},
   "outputs": [
    {
     "name": "stdout",
     "output_type": "stream",
     "text": [
      "  funding_round_type  raised_amount_usd\n",
      "0              angel       4.659255e+09\n",
      "1     private_equity       1.419254e+11\n",
      "2               seed       1.698986e+10\n",
      "3            venture       5.901262e+11\n"
     ]
    },
    {
     "data": {
      "image/png": "[encoded data removed]",
      "text/plain": [
       "<Figure size 432x288 with 1 Axes>"
      ]
     },
     "metadata": {
      "needs_background": "light"
     },
     "output_type": "display_data"
    }
   ],
   "source": [
    "# importing the matplotlib library for plotting of data\n",
    "import matplotlib.pyplot as plt\n",
    "import numpy as np\n",
    "\n",
    "fig = plt.figure()\n",
    "\n",
    "#Extracting the total funding for the 4 categories ['venture','seed','private_equity','angel'] from master_frame dataframe\n",
    "\n",
    "p1 = master_frame[master_frame['funding_round_type'].isin(['venture','seed','private_equity','angel'])]\n",
    "p1 = (p1.groupby(['funding_round_type']))['raised_amount_usd'].sum().to_frame().reset_index()\n",
    "print(p1)\n",
    "\n",
    "# plotting a bargraph for visualisation of funding amount vs funding type\n",
    "\n",
    "ax =fig.add_subplot(111)\n",
    "funding_type = p1['funding_round_type']\n",
    "fraction_fund = list(map(lambda x: x/p1['raised_amount_usd'].sum(),list(p1['raised_amount_usd'])))\n",
    "ax.bar(funding_type,fraction_fund)\n",
    "ax.set_ylabel('Funding Fraction value')\n",
    "plt.show()"
   ]
  },
  {
   "cell_type": "markdown",
   "metadata": {},
   "source": [
    "The above plot shows how venture funding was most common type of funding globally "
   ]
  },
  {
   "cell_type": "code",
   "execution_count": 12,
   "metadata": {},
   "outputs": [
    {
     "name": "stdout",
     "output_type": "stream",
     "text": [
      "['CAN', 'CHN', 'DEU', 'FRA', 'GBR', 'IND', 'ISR', 'JPN', 'USA']\n"
     ]
    },
    {
     "data": {
      "image/png": "[encoded data removed]",
      "text/plain": [
       "<Figure size 432x288 with 1 Axes>"
      ]
     },
     "metadata": {
      "needs_background": "light"
     },
     "output_type": "display_data"
    }
   ],
   "source": [
    "# subsetting the master_frame for top9 countries identified earlier and for the 4 identified investment type \n",
    "p2 = master_frame[master_frame['country_code'].isin(['USA','CHN','GBR','IND','CAN','FRA','ISR','DEU','JPN'])].reset_index(drop=True)\n",
    "p2 = p2[p2['funding_round_type'].isin(['venture','seed','private_equity','angel'])]\n",
    "p2 = (p2.groupby(['country_code','funding_round_type']))['raised_amount_usd'].sum().to_frame().reset_index()\n",
    "\n",
    "# closing the figure \n",
    "fig = plt.figure()\n",
    "bx = fig.add_subplot(111)\n",
    "\n",
    "# funstion to create a list of unique country code in their correct sequence for correct representation of values\n",
    "def unique_country_seq(df):\n",
    "    temp =[]\n",
    "    for i in range(len(df)):\n",
    "        a= df.loc[i, 'country_code']\n",
    "        if a not in temp:\n",
    "            temp.append(df.loc[i, 'country_code'])\n",
    "    return temp\n",
    "country = unique_country_seq(p2)\n",
    "print(country)\n",
    "# encoding the country values\n",
    "ypos = np.arange(len(country))\n",
    "\n",
    "# subsetting the dataframe further for each funding type\n",
    "temp1 = p2[p2['funding_round_type']=='venture']\n",
    "temp2 = p2[p2['funding_round_type']=='seed']\n",
    "temp3 = p2[p2['funding_round_type']=='angel']\n",
    "temp4 = p2[p2['funding_round_type']=='private_equity']\n",
    "bx.bar(ypos-0.3, temp2['raised_amount_usd'], width =0.2,label='Seed')\n",
    "bx.bar(ypos-0.1, temp3['raised_amount_usd'], width =0.2,label='Angel')\n",
    "bx.bar(ypos+0.1, temp4['raised_amount_usd'], width =0.2,label='Private_equity')\n",
    "bx.bar(ypos+0.3, temp1['raised_amount_usd'], width =0.2,label='Venture')\n",
    "\n",
    "#show legend\n",
    "plt.legend()\n",
    "# decoding the xlables for our plot\n",
    "plt.xticks(ypos, country)\n",
    "\n",
    "#adding labels to axes\n",
    "plt.ylabel('Amount of investment done')\n",
    "plt.xlabel('top 9 Countries identified')\n",
    "plt.show()"
   ]
  },
  {
   "cell_type": "code",
   "execution_count": 13,
   "metadata": {},
   "outputs": [
    {
     "data": {
      "image/png": "[encoded data removed]",
      "text/plain": [
       "<Figure size 432x288 with 1 Axes>"
      ]
     },
     "metadata": {
      "needs_background": "light"
     },
     "output_type": "display_data"
    }
   ],
   "source": [
    "\n",
    "country = ['USA', 'GBR', 'CAN']\n",
    "# the data taken in the list as count of investment done is printed in the above sections for reference\n",
    "top1_sec=[8693, 571, 346]\n",
    "top2_sec =[8113, 456, 337]\n",
    "top3_sec=[5553,359,175]\n",
    "\n",
    "fig = plt.figure()\n",
    "cx = fig.add_subplot(111)\n",
    "\n",
    "# encoding the country values\n",
    "ypos = np.arange(len(country))\n",
    "cx.bar(ypos-0.3, top1_sec, width =0.3,label='1st preferred sector')\n",
    "cx.bar(ypos, top2_sec, width =0.3,label='2nd preffered sector')\n",
    "cx.bar(ypos+0.3, top3_sec, width =0.3,label='3rd preffred sector')\n",
    "\n",
    "#show legend\n",
    "plt.legend()\n",
    "# decoding the xlables for our plot\n",
    "plt.xticks(ypos, country)\n",
    "#adding labels to axes\n",
    "plt.ylabel('Count of investment done')\n",
    "plt.xlabel('Top 3 Countries identified')\n",
    "plt.show()"
   ]
  },
  {
   "cell_type": "markdown",
   "metadata": {},
   "source": [
    "The final conclusion that can be thus made for Spark Funds to invest are : \n",
    "\n",
    "1. The Funding type should be ‘VENTURE’\n",
    "2. The investment should be done in ‘USA’ for a risk free approach in the market"
   ]
  },
  {
   "cell_type": "code",
   "execution_count": null,
   "metadata": {},
   "outputs": [],
   "source": []
  }
 ],
 "metadata": {
  "kernelspec": {
   "display_name": "Python 3",
   "language": "python",
   "name": "python3"
  },
  "language_info": {
   "codemirror_mode": {
    "name": "ipython",
    "version": 3
   },
   "file_extension": ".py",
   "mimetype": "text/x-python",
   "name": "python",
   "nbconvert_exporter": "python",
   "pygments_lexer": "ipython3",
   "version": "3.6.5"
  }
 },
 "nbformat": 4,
 "nbformat_minor": 4
}
